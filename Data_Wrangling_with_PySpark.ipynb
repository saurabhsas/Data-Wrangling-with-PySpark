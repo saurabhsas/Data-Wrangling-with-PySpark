{
  "cells": [
    {
      "cell_type": "markdown",
      "id": "74d6cfb5",
      "metadata": {
        "id": "74d6cfb5"
      },
      "source": [
        "# Data Wrangling with PySpark\n",
        "\n",
        "Data wrangling is the practice of converting data from a \"raw\" form into a user-ready form for descriptive analytics and provide feed for other horizons of analytics such as predictive analytics. "
      ]
    },
    {
      "cell_type": "markdown",
      "id": "8c90f175",
      "metadata": {
        "id": "8c90f175"
      },
      "source": [
        "#### *PySpark comes from Python and Spark --> PySpark = [Py]thon + Spark . It is is a python api for working with Apache Spark"
      ]
    },
    {
      "cell_type": "markdown",
      "id": "475501e3",
      "metadata": {
        "id": "475501e3"
      },
      "source": [
        "# Module 1: Importing data in as PySpark - with read.csv and read_excel"
      ]
    },
    {
      "cell_type": "code",
      "execution_count": 1,
      "id": "3bcae15f",
      "metadata": {
        "colab": {
          "base_uri": "https://localhost:8080/"
        },
        "id": "3bcae15f",
        "outputId": "fc506060-17a6-4a22-f241-5b59921c5c4c"
      },
      "outputs": [
        {
          "output_type": "stream",
          "name": "stdout",
          "text": [
            "Looking in indexes: https://pypi.org/simple, https://us-python.pkg.dev/colab-wheels/public/simple/\n",
            "Collecting pyspark[sql]\n",
            "  Downloading pyspark-3.4.0.tar.gz (310.8 MB)\n",
            "\u001b[2K     \u001b[90m━━━━━━━━━━━━━━━━━━━━━━━━━━━━━━━━━━━━━━━\u001b[0m \u001b[32m310.8/310.8 MB\u001b[0m \u001b[31m4.0 MB/s\u001b[0m eta \u001b[36m0:00:00\u001b[0m\n",
            "\u001b[?25h  Preparing metadata (setup.py) ... \u001b[?25l\u001b[?25hdone\n",
            "Requirement already satisfied: py4j==0.10.9.7 in /usr/local/lib/python3.10/dist-packages (from pyspark[sql]) (0.10.9.7)\n",
            "Requirement already satisfied: pandas>=1.0.5 in /usr/local/lib/python3.10/dist-packages (from pyspark[sql]) (1.5.3)\n",
            "Requirement already satisfied: pyarrow>=1.0.0 in /usr/local/lib/python3.10/dist-packages (from pyspark[sql]) (9.0.0)\n",
            "Requirement already satisfied: numpy>=1.15 in /usr/local/lib/python3.10/dist-packages (from pyspark[sql]) (1.22.4)\n",
            "Requirement already satisfied: pytz>=2020.1 in /usr/local/lib/python3.10/dist-packages (from pandas>=1.0.5->pyspark[sql]) (2022.7.1)\n",
            "Requirement already satisfied: python-dateutil>=2.8.1 in /usr/local/lib/python3.10/dist-packages (from pandas>=1.0.5->pyspark[sql]) (2.8.2)\n",
            "Requirement already satisfied: six>=1.5 in /usr/local/lib/python3.10/dist-packages (from python-dateutil>=2.8.1->pandas>=1.0.5->pyspark[sql]) (1.16.0)\n",
            "Building wheels for collected packages: pyspark\n",
            "  Building wheel for pyspark (setup.py) ... \u001b[?25l\u001b[?25hdone\n",
            "  Created wheel for pyspark: filename=pyspark-3.4.0-py2.py3-none-any.whl size=311317145 sha256=2364b21a84da145a8f89c556a55f327a923188be675456411d859e5b177d0737\n",
            "  Stored in directory: /root/.cache/pip/wheels/7b/1b/4b/3363a1d04368e7ff0d408e57ff57966fcdf00583774e761327\n",
            "Successfully built pyspark\n",
            "Installing collected packages: pyspark\n",
            "Successfully installed pyspark-3.4.0\n"
          ]
        }
      ],
      "source": [
        "#if not already installed, use below:\n",
        "!pip install pyspark[sql]"
      ]
    },
    {
      "cell_type": "code",
      "execution_count": 2,
      "id": "4a488bd9",
      "metadata": {
        "id": "4a488bd9"
      },
      "outputs": [],
      "source": [
        "import pyspark.sql\n",
        "from pyspark.sql import SparkSession\n",
        "spark = SparkSession.builder.appName('test').getOrCreate() \n",
        "#the above line will return existing session if one was created before and was not closed"
      ]
    },
    {
      "cell_type": "code",
      "execution_count": 4,
      "id": "8398b14a",
      "metadata": {
        "colab": {
          "base_uri": "https://localhost:8080/"
        },
        "id": "8398b14a",
        "outputId": "508195d9-4da9-4d81-d35a-ecdcde0009f5"
      },
      "outputs": [
        {
          "output_type": "stream",
          "name": "stdout",
          "text": [
            "+-------+----------------+----------------+--------------+-------------+------+-------+---+-----------+-----+---------------+----------+-----------------+--------------------+\n",
            "|user_id|     signup_time|   purchase_time|purchase_value|    device_id|source|browser|sex| ip_address|class|       category|       dob|             name|               email|\n",
            "+-------+----------------+----------------+--------------+-------------+------+-------+---+-----------+-----+---------------+----------+-----------------+--------------------+\n",
            "|  22058|24-02-2015 22:55|18-04-2015 02:47|         65278|QVPSPJUOCKZAR|   SEO| Chrome|  M|732758368.8|    0|home_essentials|22-02-1976|  Aaron P Maashoh|aaron.maashoh@yah...|\n",
            "| 333320|07-06-2015 20:39|08-06-2015 01:38|         96399|EOGFQPIZPYXFZ|   Ads| Chrome|  F|350311387.9|    0|       apparels|02-01-1962|Rick D Rothackerj|rick_rothackerj@y...|\n",
            "+-------+----------------+----------------+--------------+-------------+------+-------+---+-----------+-----+---------------+----------+-----------------+--------------------+\n",
            "only showing top 2 rows\n",
            "\n"
          ]
        }
      ],
      "source": [
        "# read csv, all columns will be of type string\n",
        "df1 = spark.read.option('header','true').csv('Sample_Fraud_Detection.csv')\n",
        "df1.show(2)"
      ]
    },
    {
      "cell_type": "code",
      "execution_count": 5,
      "id": "79edbeb6",
      "metadata": {
        "colab": {
          "base_uri": "https://localhost:8080/"
        },
        "id": "79edbeb6",
        "outputId": "3a6ac514-42c5-4311-f06f-793950c99d79"
      },
      "outputs": [
        {
          "output_type": "stream",
          "name": "stdout",
          "text": [
            "+-------+----------------+----------------+--------------+-------------+------+-------+---+-------------+-----+---------------+----------+-----------------+--------------------+\n",
            "|user_id|     signup_time|   purchase_time|purchase_value|    device_id|source|browser|sex|   ip_address|class|       category|       dob|             name|               email|\n",
            "+-------+----------------+----------------+--------------+-------------+------+-------+---+-------------+-----+---------------+----------+-----------------+--------------------+\n",
            "|  22058|24-02-2015 22:55|18-04-2015 02:47|         65278|QVPSPJUOCKZAR|   SEO| Chrome|  M|7.327583688E8|    0|home_essentials|22-02-1976|  Aaron P Maashoh|aaron.maashoh@yah...|\n",
            "| 333320|07-06-2015 20:39|08-06-2015 01:38|         96399|EOGFQPIZPYXFZ|   Ads| Chrome|  F|3.503113879E8|    0|       apparels|02-01-1962|Rick D Rothackerj|rick_rothackerj@y...|\n",
            "+-------+----------------+----------------+--------------+-------------+------+-------+---+-------------+-----+---------------+----------+-----------------+--------------------+\n",
            "only showing top 2 rows\n",
            "\n"
          ]
        }
      ],
      "source": [
        "df = spark.read.csv('Sample_Fraud_Detection.csv', inferSchema=True, header=True)\n",
        "df.show(2)"
      ]
    },
    {
      "cell_type": "markdown",
      "id": "c8ceacff",
      "metadata": {
        "id": "c8ceacff"
      },
      "source": [
        "# Module 2: View the top and bottom rows of the DataFrame with DataFrame.head(n) and DataFrame.tail(n) OR show() options"
      ]
    },
    {
      "cell_type": "code",
      "execution_count": 6,
      "id": "69007fb9",
      "metadata": {
        "colab": {
          "base_uri": "https://localhost:8080/"
        },
        "id": "69007fb9",
        "outputId": "46f163bf-6d0b-4688-81d5-53820f3fc16c"
      },
      "outputs": [
        {
          "output_type": "execute_result",
          "data": {
            "text/plain": [
              "[Row(user_id=22058, signup_time='24-02-2015 22:55', purchase_time='18-04-2015 02:47', purchase_value=65278, device_id='QVPSPJUOCKZAR', source='SEO', browser='Chrome', sex='M', ip_address=732758368.8, class=0, category='home_essentials', dob='22-02-1976', name='Aaron P Maashoh', email='aaron.maashoh@yahoo.com'),\n",
              " Row(user_id=333320, signup_time='07-06-2015 20:39', purchase_time='08-06-2015 01:38', purchase_value=96399, device_id='EOGFQPIZPYXFZ', source='Ads', browser='Chrome', sex='F', ip_address=350311387.9, class=0, category='apparels', dob='02-01-1962', name='Rick D Rothackerj', email='rick_rothackerj@yahoo.com')]"
            ]
          },
          "metadata": {},
          "execution_count": 6
        }
      ],
      "source": [
        "#Top n rows\n",
        "df.head(2) #The code here is exactly as same as that of pandas, but output in in row-by-row format"
      ]
    },
    {
      "cell_type": "code",
      "execution_count": 7,
      "id": "3e2b8d74",
      "metadata": {
        "colab": {
          "base_uri": "https://localhost:8080/"
        },
        "id": "3e2b8d74",
        "outputId": "bf578453-eaaa-456f-d99e-eb8adc4a3ab8"
      },
      "outputs": [
        {
          "output_type": "execute_result",
          "data": {
            "text/plain": [
              "[Row(user_id=117191, signup_time='28-02-2015 17:14', purchase_time='14-04-2015 15:39', purchase_value=20193, device_id='GDHCTKIKPHENW', source='Direct', browser='IE', sex='M', ip_address=1411318028.0, class=0, category='apparels', dob='17-11-1979', name='Julia D Edwardsj', email='julia.edwardsj@sutletgroup.com'),\n",
              " Row(user_id=65732, signup_time='11-01-2015 11:10', purchase_time='22-01-2015 04:16', purchase_value=26225, device_id='VSMNAOFPSEQOL', source='Ads', browser='IE', sex='M', ip_address=3765208398.0, class=0, category='apparels', dob='23-03-1988', name='Conor V Humphriesk', email='conor.humphriesk@gmail.com')]"
            ]
          },
          "metadata": {},
          "execution_count": 7
        }
      ],
      "source": [
        "#Top 5 rows\n",
        "df.tail(2) #The code here is exactly as same as that of pandas"
      ]
    },
    {
      "cell_type": "code",
      "execution_count": 8,
      "id": "87bf5e72",
      "metadata": {
        "colab": {
          "base_uri": "https://localhost:8080/"
        },
        "id": "87bf5e72",
        "outputId": "1afe188d-0837-4e31-eced-559fb7e3e9fa"
      },
      "outputs": [
        {
          "output_type": "stream",
          "name": "stdout",
          "text": [
            "+-------+----------------+----------------+--------------+-------------+------+-------+---+-------------+-----+---------------+----------+-----------------+--------------------+\n",
            "|user_id|     signup_time|   purchase_time|purchase_value|    device_id|source|browser|sex|   ip_address|class|       category|       dob|             name|               email|\n",
            "+-------+----------------+----------------+--------------+-------------+------+-------+---+-------------+-----+---------------+----------+-----------------+--------------------+\n",
            "|  22058|24-02-2015 22:55|18-04-2015 02:47|         65278|QVPSPJUOCKZAR|   SEO| Chrome|  M|7.327583688E8|    0|home_essentials|22-02-1976|  Aaron P Maashoh|aaron.maashoh@yah...|\n",
            "| 333320|07-06-2015 20:39|08-06-2015 01:38|         96399|EOGFQPIZPYXFZ|   Ads| Chrome|  F|3.503113879E8|    0|       apparels|02-01-1962|Rick D Rothackerj|rick_rothackerj@y...|\n",
            "+-------+----------------+----------------+--------------+-------------+------+-------+---+-------------+-----+---------------+----------+-----------------+--------------------+\n",
            "only showing top 2 rows\n",
            "\n"
          ]
        }
      ],
      "source": [
        "#Top 2 rows, in a better way\n",
        "df.show(2)"
      ]
    },
    {
      "cell_type": "code",
      "execution_count": 9,
      "id": "92a4371b",
      "metadata": {
        "colab": {
          "base_uri": "https://localhost:8080/"
        },
        "id": "92a4371b",
        "outputId": "944ea9df-a760-4ac7-f1d9-5b4809c7a460"
      },
      "outputs": [
        {
          "output_type": "stream",
          "name": "stdout",
          "text": [
            "+-------------+-------+\n",
            "|    device_id|browser|\n",
            "+-------------+-------+\n",
            "|QVPSPJUOCKZAR| Chrome|\n",
            "|EOGFQPIZPYXFZ| Chrome|\n",
            "|YSSKYOSJHPPLJ|  Opera|\n",
            "+-------------+-------+\n",
            "only showing top 3 rows\n",
            "\n"
          ]
        }
      ],
      "source": [
        "# top 3 rows and selected columns\n",
        "df.select(['device_id','browser']).show(3)"
      ]
    },
    {
      "cell_type": "markdown",
      "id": "7852cbe0",
      "metadata": {
        "id": "7852cbe0"
      },
      "source": [
        "# Module 3: Useful fuctions to get basic information about the data\n",
        "### This is equivalent to Proc Contents of SAS, which gives out the Meta-data of the dataset\n",
        "#### .info()- will also give information about  missing values"
      ]
    },
    {
      "cell_type": "code",
      "execution_count": 10,
      "id": "279a52ed",
      "metadata": {
        "colab": {
          "base_uri": "https://localhost:8080/"
        },
        "id": "279a52ed",
        "outputId": "f25b5df7-9f4a-4799-88b1-c6b504034e06"
      },
      "outputs": [
        {
          "output_type": "execute_result",
          "data": {
            "text/plain": [
              "[('user_id', 'int'),\n",
              " ('signup_time', 'string'),\n",
              " ('purchase_time', 'string'),\n",
              " ('purchase_value', 'int'),\n",
              " ('device_id', 'string'),\n",
              " ('source', 'string'),\n",
              " ('browser', 'string'),\n",
              " ('sex', 'string'),\n",
              " ('ip_address', 'double'),\n",
              " ('class', 'int'),\n",
              " ('category', 'string'),\n",
              " ('dob', 'string'),\n",
              " ('name', 'string'),\n",
              " ('email', 'string')]"
            ]
          },
          "metadata": {},
          "execution_count": 10
        }
      ],
      "source": [
        "df.dtypes #The code here is exactly as same as that of pandas"
      ]
    },
    {
      "cell_type": "code",
      "execution_count": 11,
      "id": "9b0a2820",
      "metadata": {
        "colab": {
          "base_uri": "https://localhost:8080/"
        },
        "id": "9b0a2820",
        "outputId": "672a9f3e-cbde-4d1c-9150-ee5383ad857b"
      },
      "outputs": [
        {
          "output_type": "execute_result",
          "data": {
            "text/plain": [
              "StructType([StructField('user_id', IntegerType(), True), StructField('signup_time', StringType(), True), StructField('purchase_time', StringType(), True), StructField('purchase_value', IntegerType(), True), StructField('device_id', StringType(), True), StructField('source', StringType(), True), StructField('browser', StringType(), True), StructField('sex', StringType(), True), StructField('ip_address', DoubleType(), True), StructField('class', IntegerType(), True), StructField('category', StringType(), True), StructField('dob', StringType(), True), StructField('name', StringType(), True), StructField('email', StringType(), True)])"
            ]
          },
          "metadata": {},
          "execution_count": 11
        }
      ],
      "source": [
        "df.schema"
      ]
    },
    {
      "cell_type": "markdown",
      "id": "98a9c17a",
      "metadata": {
        "id": "98a9c17a"
      },
      "source": [
        "##### .columns - Getting all column names"
      ]
    },
    {
      "cell_type": "code",
      "execution_count": 12,
      "id": "483322ec",
      "metadata": {
        "colab": {
          "base_uri": "https://localhost:8080/"
        },
        "id": "483322ec",
        "outputId": "e9f7485b-b977-4dc8-cdea-497734706822"
      },
      "outputs": [
        {
          "output_type": "execute_result",
          "data": {
            "text/plain": [
              "['user_id',\n",
              " 'signup_time',\n",
              " 'purchase_time',\n",
              " 'purchase_value',\n",
              " 'device_id',\n",
              " 'source',\n",
              " 'browser',\n",
              " 'sex',\n",
              " 'ip_address',\n",
              " 'class',\n",
              " 'category',\n",
              " 'dob',\n",
              " 'name',\n",
              " 'email']"
            ]
          },
          "metadata": {},
          "execution_count": 12
        }
      ],
      "source": [
        "df.columns #The code here is exactly as same as that of pandas"
      ]
    },
    {
      "cell_type": "code",
      "execution_count": 13,
      "id": "b49bfecf",
      "metadata": {
        "colab": {
          "base_uri": "https://localhost:8080/"
        },
        "id": "b49bfecf",
        "outputId": "6c1ccc48-51c2-416d-8151-90702160ee57"
      },
      "outputs": [
        {
          "output_type": "stream",
          "name": "stdout",
          "text": [
            "root\n",
            " |-- user_id: integer (nullable = true)\n",
            " |-- signup_time: string (nullable = true)\n",
            " |-- purchase_time: string (nullable = true)\n",
            " |-- purchase_value: integer (nullable = true)\n",
            " |-- device_id: string (nullable = true)\n",
            " |-- source: string (nullable = true)\n",
            " |-- browser: string (nullable = true)\n",
            " |-- sex: string (nullable = true)\n",
            " |-- ip_address: double (nullable = true)\n",
            " |-- class: integer (nullable = true)\n",
            " |-- category: string (nullable = true)\n",
            " |-- dob: string (nullable = true)\n",
            " |-- name: string (nullable = true)\n",
            " |-- email: string (nullable = true)\n",
            "\n"
          ]
        }
      ],
      "source": [
        "df.printSchema()"
      ]
    },
    {
      "cell_type": "markdown",
      "id": "9be873d1",
      "metadata": {
        "id": "9be873d1"
      },
      "source": [
        "##### count() - Getting count of rows (obserations)"
      ]
    },
    {
      "cell_type": "code",
      "execution_count": 14,
      "id": "aed817e6",
      "metadata": {
        "colab": {
          "base_uri": "https://localhost:8080/"
        },
        "id": "aed817e6",
        "outputId": "e9c21ddf-edff-463f-9a32-5b3dd2bb141a"
      },
      "outputs": [
        {
          "output_type": "execute_result",
          "data": {
            "text/plain": [
              "999"
            ]
          },
          "metadata": {},
          "execution_count": 14
        }
      ],
      "source": [
        "df.count()"
      ]
    },
    {
      "cell_type": "markdown",
      "id": "2d320a94",
      "metadata": {
        "id": "2d320a94"
      },
      "source": [
        "#####  Getting count of columns"
      ]
    },
    {
      "cell_type": "code",
      "execution_count": 15,
      "id": "16aa9d28",
      "metadata": {
        "colab": {
          "base_uri": "https://localhost:8080/"
        },
        "id": "16aa9d28",
        "outputId": "39d09100-2628-47fe-87ce-f3035788f3e3"
      },
      "outputs": [
        {
          "output_type": "execute_result",
          "data": {
            "text/plain": [
              "14"
            ]
          },
          "metadata": {},
          "execution_count": 15
        }
      ],
      "source": [
        "len(df.columns)"
      ]
    },
    {
      "cell_type": "markdown",
      "id": "8039d01c",
      "metadata": {
        "id": "8039d01c"
      },
      "source": [
        "##### .describe()- will give basic statistics of the data in the comprehensive format\n",
        "####  it is quite similar to Proc Summary/ Proc Means functionality of SAS"
      ]
    },
    {
      "cell_type": "code",
      "execution_count": 16,
      "id": "68bf24cc",
      "metadata": {
        "colab": {
          "base_uri": "https://localhost:8080/"
        },
        "id": "68bf24cc",
        "outputId": "381fe90e-a54d-440c-c970-db218f72f69e"
      },
      "outputs": [
        {
          "output_type": "stream",
          "name": "stdout",
          "text": [
            "-RECORD 0------------------------------\n",
            " summary        | count                \n",
            " user_id        | 999                  \n",
            " signup_time    | 999                  \n",
            " purchase_time  | 999                  \n",
            " purchase_value | 999                  \n",
            " device_id      | 999                  \n",
            " source         | 999                  \n",
            " browser        | 999                  \n",
            " sex            | 974                  \n",
            " ip_address     | 999                  \n",
            " class          | 999                  \n",
            " category       | 999                  \n",
            " dob            | 970                  \n",
            " name           | 999                  \n",
            " email          | 999                  \n",
            "-RECORD 1------------------------------\n",
            " summary        | mean                 \n",
            " user_id        | 196343.71971971972   \n",
            " signup_time    | null                 \n",
            " purchase_time  | null                 \n",
            " purchase_value | 50992.49149149149    \n",
            " device_id      | null                 \n",
            " source         | null                 \n",
            " browser        | null                 \n",
            " sex            | null                 \n",
            " ip_address     | 2.0997467659647415E9 \n",
            " class          | 0.1011011011011011   \n",
            " category       | null                 \n",
            " dob            | null                 \n",
            " name           | null                 \n",
            " email          | null                 \n",
            "-RECORD 2------------------------------\n",
            " summary        | stddev               \n",
            " user_id        | 116166.71794491609   \n",
            " signup_time    | null                 \n",
            " purchase_time  | null                 \n",
            " purchase_value | 28681.076653460594   \n",
            " device_id      | null                 \n",
            " source         | null                 \n",
            " browser        | null                 \n",
            " sex            | null                 \n",
            " ip_address     | 1.2623664837858849E9 \n",
            " class          | 0.30161354453884753  \n",
            " category       | null                 \n",
            " dob            | null                 \n",
            " name           | null                 \n",
            " email          | null                 \n",
            "-RECORD 3------------------------------\n",
            " summary        | min                  \n",
            " user_id        | 170                  \n",
            " signup_time    | 01-01-2015 04:43     \n",
            " purchase_time  | 01-01-2015 07:26     \n",
            " purchase_value | 1176                 \n",
            " device_id      | AAZQPCHXEHLYC        \n",
            " source         | Ads                  \n",
            " browser        | Chrome               \n",
            " sex            | F                    \n",
            " ip_address     | 131423.789           \n",
            " class          | 0                    \n",
            " category       | apparels             \n",
            " dob            | 01-01-1976           \n",
            " name           | \"SaPinto\"\" Q Tommyl\" \n",
            " email          | ,.globalf@tntech.edu \n",
            "-RECORD 4------------------------------\n",
            " summary        | max                  \n",
            " user_id        | 399975               \n",
            " signup_time    | 31-07-2015 15:55     \n",
            " purchase_time  | 31-10-2015 04:57     \n",
            " purchase_value | 99743                \n",
            " device_id      | ZZLEGANIEFKQE        \n",
            " source         | SEO                  \n",
            " browser        | Safari               \n",
            " sex            | M                    \n",
            " ip_address     | 4.294263389E9        \n",
            " class          | 1                    \n",
            " category       | home_essentials      \n",
            " dob            | 27-11-1977           \n",
            " name           | ro X Lifschitzt      \n",
            " email          | zhou#xiny@tntech.edu \n",
            "\n",
            "None\n"
          ]
        }
      ],
      "source": [
        "#Default is the descriptive statistics of only the numeric columns, vertical = True option makes it better to read\n",
        "print(df.describe().show(truncate = True, vertical=True))"
      ]
    },
    {
      "cell_type": "code",
      "execution_count": 17,
      "id": "8e3771e0",
      "metadata": {
        "colab": {
          "base_uri": "https://localhost:8080/"
        },
        "id": "8e3771e0",
        "outputId": "e3da2119-05fc-41ab-9702-c8880960c1f4"
      },
      "outputs": [
        {
          "output_type": "stream",
          "name": "stdout",
          "text": [
            "+-------+-------------------+\n",
            "|summary|              class|\n",
            "+-------+-------------------+\n",
            "|  count|                999|\n",
            "|   mean| 0.1011011011011011|\n",
            "| stddev|0.30161354453884753|\n",
            "|    min|                  0|\n",
            "|    max|                  1|\n",
            "+-------+-------------------+\n",
            "\n",
            "None\n"
          ]
        }
      ],
      "source": [
        "# Descriptive statistics of only the one of the columns\n",
        "print(df.select(['class']).describe().show())"
      ]
    },
    {
      "cell_type": "code",
      "execution_count": 18,
      "id": "5e090dc3",
      "metadata": {
        "colab": {
          "base_uri": "https://localhost:8080/"
        },
        "id": "5e090dc3",
        "outputId": "d3c95195-b7c4-4c3f-95a0-c6843283f47f"
      },
      "outputs": [
        {
          "output_type": "stream",
          "name": "stdout",
          "text": [
            "+-------+-------+\n",
            "|summary|browser|\n",
            "+-------+-------+\n",
            "|  count|    999|\n",
            "|   mean|   null|\n",
            "| stddev|   null|\n",
            "|    min| Chrome|\n",
            "|    max| Safari|\n",
            "+-------+-------+\n",
            "\n",
            "None\n"
          ]
        }
      ],
      "source": [
        "# Descriptive statistics of only the one of the columns\n",
        "print(df.select(['browser']).describe().show())"
      ]
    },
    {
      "cell_type": "code",
      "execution_count": 19,
      "id": "2d646b3e",
      "metadata": {
        "colab": {
          "base_uri": "https://localhost:8080/"
        },
        "id": "2d646b3e",
        "outputId": "aa3d67d6-84ed-4c8d-ca98-e742f87cd49b"
      },
      "outputs": [
        {
          "output_type": "stream",
          "name": "stdout",
          "text": [
            "+-------+----+-----+\n",
            "|browser| sex|count|\n",
            "+-------+----+-----+\n",
            "|  Opera|   M|   11|\n",
            "| Safari|   F|   68|\n",
            "|FireFox|null|    5|\n",
            "|  Opera|   F|    8|\n",
            "| Chrome|   M|  218|\n",
            "|FireFox|   M|   89|\n",
            "| Chrome|   F|  167|\n",
            "|     IE|null|    6|\n",
            "| Chrome|null|   12|\n",
            "|     IE|   F|  110|\n",
            "|     IE|   M|  144|\n",
            "|FireFox|   F|   61|\n",
            "| Safari|   M|   98|\n",
            "|  Opera|null|    2|\n",
            "+-------+----+-----+\n",
            "\n"
          ]
        }
      ],
      "source": [
        "df.groupBy(\"browser\", \"sex\").count().show()"
      ]
    },
    {
      "cell_type": "markdown",
      "id": "b4d223f0",
      "metadata": {
        "id": "b4d223f0"
      },
      "source": [
        "# Module 4 : Subsetting data Vertically and Horizontally (selecting subset of a DataFrame)"
      ]
    },
    {
      "cell_type": "markdown",
      "id": "3b43b55f",
      "metadata": {
        "id": "3b43b55f"
      },
      "source": [
        "##### Selecting only few columns from a DataFrame"
      ]
    },
    {
      "cell_type": "code",
      "execution_count": 20,
      "id": "3f9f230e",
      "metadata": {
        "colab": {
          "base_uri": "https://localhost:8080/"
        },
        "id": "3f9f230e",
        "outputId": "34fef035-da38-425b-9e10-4faf02197e70"
      },
      "outputs": [
        {
          "output_type": "stream",
          "name": "stdout",
          "text": [
            "+---+-------+\n",
            "|sex|browser|\n",
            "+---+-------+\n",
            "|  M| Chrome|\n",
            "|  F| Chrome|\n",
            "|  M|  Opera|\n",
            "+---+-------+\n",
            "only showing top 3 rows\n",
            "\n"
          ]
        }
      ],
      "source": [
        "sample1 = df.select(['sex','browser'])\n",
        "sample1.show(3)"
      ]
    },
    {
      "cell_type": "markdown",
      "id": "a4cd05df",
      "metadata": {
        "id": "a4cd05df"
      },
      "source": [
        "#### How to drop variables - in case we need to"
      ]
    },
    {
      "cell_type": "code",
      "execution_count": 21,
      "id": "852f04ff",
      "metadata": {
        "colab": {
          "base_uri": "https://localhost:8080/"
        },
        "id": "852f04ff",
        "outputId": "0c59edc9-ee62-4498-9061-e803ca59e878"
      },
      "outputs": [
        {
          "output_type": "stream",
          "name": "stdout",
          "text": [
            "+-------+----------------+----------------+--------------+-------------+------+-------------+-----+---------------+----------+-----------------+--------------------+\n",
            "|user_id|     signup_time|   purchase_time|purchase_value|    device_id|source|   ip_address|class|       category|       dob|             name|               email|\n",
            "+-------+----------------+----------------+--------------+-------------+------+-------------+-----+---------------+----------+-----------------+--------------------+\n",
            "|  22058|24-02-2015 22:55|18-04-2015 02:47|         65278|QVPSPJUOCKZAR|   SEO|7.327583688E8|    0|home_essentials|22-02-1976|  Aaron P Maashoh|aaron.maashoh@yah...|\n",
            "| 333320|07-06-2015 20:39|08-06-2015 01:38|         96399|EOGFQPIZPYXFZ|   Ads|3.503113879E8|    0|       apparels|02-01-1962|Rick D Rothackerj|rick_rothackerj@y...|\n",
            "+-------+----------------+----------------+--------------+-------------+------+-------------+-----+---------------+----------+-----------------+--------------------+\n",
            "only showing top 2 rows\n",
            "\n"
          ]
        }
      ],
      "source": [
        "df_x = df.drop(\"sex\",\"browser\")\n",
        "df_x.show(2)"
      ]
    },
    {
      "cell_type": "markdown",
      "id": "dc93f154",
      "metadata": {
        "id": "dc93f154"
      },
      "source": [
        "##### rename() : renaming the columns in a Pandas DataFrame"
      ]
    },
    {
      "cell_type": "code",
      "execution_count": 22,
      "id": "b34032e2",
      "metadata": {
        "colab": {
          "base_uri": "https://localhost:8080/"
        },
        "id": "b34032e2",
        "outputId": "13a53d3f-0d76-47f7-ab77-178a4b5c6996"
      },
      "outputs": [
        {
          "output_type": "stream",
          "name": "stdout",
          "text": [
            "+-------+----------------+----------------+--------------+-------------+------+-------+------+-------------+-----+---------------+----------+---------------+-----------------------+\n",
            "|user_id|signup_time     |purchase_time   |purchase_value|device_id    |source|browser|gender|ip_address   |class|category       |birth_date|name           |email_id               |\n",
            "+-------+----------------+----------------+--------------+-------------+------+-------+------+-------------+-----+---------------+----------+---------------+-----------------------+\n",
            "|22058  |24-02-2015 22:55|18-04-2015 02:47|65278         |QVPSPJUOCKZAR|SEO   |Chrome |M     |7.327583688E8|0    |home_essentials|22-02-1976|Aaron P Maashoh|aaron.maashoh@yahoo.com|\n",
            "+-------+----------------+----------------+--------------+-------------+------+-------+------+-------------+-----+---------------+----------+---------------+-----------------------+\n",
            "only showing top 1 row\n",
            "\n"
          ]
        }
      ],
      "source": [
        "df_new = df.withColumnRenamed('sex','gender') \\\n",
        "         .withColumnRenamed('dob','birth_date')\\\n",
        "         .withColumnRenamed('email','email_id')\n",
        "df_new.show(1,vertical = False, truncate = False )"
      ]
    },
    {
      "cell_type": "markdown",
      "id": "57611a1b",
      "metadata": {
        "id": "57611a1b"
      },
      "source": [
        "# Module 5: Conditional filter and LOGICAL operators similar to where clause in SAS/SQL"
      ]
    },
    {
      "cell_type": "markdown",
      "id": "3b98022f",
      "metadata": {
        "id": "3b98022f"
      },
      "source": [
        "##### Extract rows with a single condition using operators"
      ]
    },
    {
      "cell_type": "code",
      "execution_count": 23,
      "id": "d8fb9e17",
      "metadata": {
        "colab": {
          "base_uri": "https://localhost:8080/"
        },
        "id": "d8fb9e17",
        "outputId": "c192cb7d-253d-49f0-ca65-954fd6ae969c"
      },
      "outputs": [
        {
          "output_type": "execute_result",
          "data": {
            "text/plain": [
              "96"
            ]
          },
          "metadata": {},
          "execution_count": 23
        }
      ],
      "source": [
        "above = df[df.purchase_value > 90000]   #The code here is exactly as same as that of pandas\n",
        "above.count()"
      ]
    },
    {
      "cell_type": "markdown",
      "id": "1de57e4b",
      "metadata": {
        "id": "1de57e4b"
      },
      "source": [
        "##### Extract rows with multiple conditions using  operators \" | \". It filters data similar to OR operater in where caluse of SAS/SQL."
      ]
    },
    {
      "cell_type": "code",
      "execution_count": 24,
      "id": "696353f0",
      "metadata": {
        "colab": {
          "base_uri": "https://localhost:8080/"
        },
        "id": "696353f0",
        "outputId": "71e5bc2e-f19c-4116-8eb5-bf67d11f9c5c"
      },
      "outputs": [
        {
          "output_type": "execute_result",
          "data": {
            "text/plain": [
              "657"
            ]
          },
          "metadata": {},
          "execution_count": 24
        }
      ],
      "source": [
        "chrm_ie = df[(df.browser == \"Chrome\") | (df.browser == \"IE\")]    #The code here is exactly as same as that of pandas\n",
        "chrm_ie.count()"
      ]
    },
    {
      "cell_type": "markdown",
      "id": "9d3250c0",
      "metadata": {
        "id": "9d3250c0"
      },
      "source": [
        "##### .isin() : multiple \"OR\" conditions over a single column"
      ]
    },
    {
      "cell_type": "code",
      "execution_count": 25,
      "id": "94101b46",
      "metadata": {
        "colab": {
          "base_uri": "https://localhost:8080/"
        },
        "id": "94101b46",
        "outputId": "dd4cb6a0-3cba-4ccc-f1dc-0c0ad2c5d28d"
      },
      "outputs": [
        {
          "output_type": "execute_result",
          "data": {
            "text/plain": [
              "657"
            ]
          },
          "metadata": {},
          "execution_count": 25
        }
      ],
      "source": [
        "chrm_ie = df[df.browser.isin([\"Chrome\", \"IE\"])]       #The code here is exactly as same as that of pandas\n",
        "chrm_ie.count()"
      ]
    },
    {
      "cell_type": "code",
      "execution_count": null,
      "id": "73242ed0",
      "metadata": {
        "id": "73242ed0"
      },
      "outputs": [],
      "source": [
        "#### use \"&\" symbol in PySpark as an “AND” operator of SQL. df [(condition1) & (condition2)]"
      ]
    },
    {
      "cell_type": "code",
      "execution_count": 26,
      "id": "95f9a98e",
      "metadata": {
        "colab": {
          "base_uri": "https://localhost:8080/"
        },
        "id": "95f9a98e",
        "outputId": "1f62aab2-286f-4017-fbdb-bba3a9c82d70"
      },
      "outputs": [
        {
          "output_type": "execute_result",
          "data": {
            "text/plain": [
              "65"
            ]
          },
          "metadata": {},
          "execution_count": 26
        }
      ],
      "source": [
        "above_chrm = df[(df.purchase_value > 90000) & (df.browser != \"Chrome\")]      #The code here is exactly as same as that of pandas\n",
        "above_chrm.count()"
      ]
    },
    {
      "cell_type": "markdown",
      "id": "ffceeadc",
      "metadata": {
        "id": "ffceeadc"
      },
      "source": [
        "##### use \"between\" to filter a numerical column between a range of values"
      ]
    },
    {
      "cell_type": "code",
      "execution_count": 27,
      "id": "f075fc69",
      "metadata": {
        "colab": {
          "base_uri": "https://localhost:8080/"
        },
        "id": "f075fc69",
        "outputId": "c740990f-639d-41db-b8bd-3f9f2e0eb2b1"
      },
      "outputs": [
        {
          "output_type": "execute_result",
          "data": {
            "text/plain": [
              "106"
            ]
          },
          "metadata": {},
          "execution_count": 27
        }
      ],
      "source": [
        "btw = df[df['purchase_value'].between(80000, 90000)]       #The code here is exactly as same as that of pandas\n",
        "btw.count()"
      ]
    },
    {
      "cell_type": "code",
      "execution_count": 28,
      "id": "35ab2b36",
      "metadata": {
        "colab": {
          "base_uri": "https://localhost:8080/"
        },
        "id": "35ab2b36",
        "outputId": "cbb816a8-4ab8-4787-9ab6-adced74e85c8"
      },
      "outputs": [
        {
          "output_type": "execute_result",
          "data": {
            "text/plain": [
              "106"
            ]
          },
          "metadata": {},
          "execution_count": 28
        }
      ],
      "source": [
        "#Another way to write this\n",
        "btw = df.filter(df.purchase_value.between(80000, 90000))\n",
        "btw.count()"
      ]
    },
    {
      "cell_type": "code",
      "execution_count": 29,
      "id": "a258ede9",
      "metadata": {
        "colab": {
          "base_uri": "https://localhost:8080/"
        },
        "id": "a258ede9",
        "outputId": "dfcccf9d-2727-4154-c91b-cdabfc95e035"
      },
      "outputs": [
        {
          "output_type": "execute_result",
          "data": {
            "text/plain": [
              "106"
            ]
          },
          "metadata": {},
          "execution_count": 29
        }
      ],
      "source": [
        "#One more way to write this\n",
        "btw = df.where(df.purchase_value.between(80000, 90000))\n",
        "btw.count()"
      ]
    },
    {
      "cell_type": "markdown",
      "id": "fe88b81b",
      "metadata": {
        "id": "fe88b81b"
      },
      "source": [
        "### How to use contains condition in where clause"
      ]
    },
    {
      "cell_type": "code",
      "execution_count": 30,
      "id": "c5a7cbca",
      "metadata": {
        "colab": {
          "base_uri": "https://localhost:8080/"
        },
        "id": "c5a7cbca",
        "outputId": "6aa0d020-3d05-4f85-8109-74444fa749d8"
      },
      "outputs": [
        {
          "output_type": "execute_result",
          "data": {
            "text/plain": [
              "399"
            ]
          },
          "metadata": {},
          "execution_count": 30
        }
      ],
      "source": [
        "data_subset = df.filter(df.source.contains('SE'))\n",
        "data_subset.count()"
      ]
    },
    {
      "cell_type": "markdown",
      "id": "0e1d9dfa",
      "metadata": {
        "id": "0e1d9dfa"
      },
      "source": [
        "# Unlike pandas, in PySpark we can use Like %% operators, YAY!!!"
      ]
    },
    {
      "cell_type": "code",
      "execution_count": 31,
      "id": "39b6191e",
      "metadata": {
        "colab": {
          "base_uri": "https://localhost:8080/"
        },
        "id": "39b6191e",
        "outputId": "1b72e348-b408-4271-820d-074077d0fee8"
      },
      "outputs": [
        {
          "output_type": "execute_result",
          "data": {
            "text/plain": [
              "399"
            ]
          },
          "metadata": {},
          "execution_count": 31
        }
      ],
      "source": [
        "data_subset = df.filter(df.source.like(\"%SE%\")) \n",
        "data_subset.count()"
      ]
    },
    {
      "cell_type": "markdown",
      "id": "e3c3ca50",
      "metadata": {
        "id": "e3c3ca50"
      },
      "source": [
        "# Module 6 : Derive a new column(s)\n",
        "SELECT *, purchase_value/82.52 as convt\n",
        "FROM tips;"
      ]
    },
    {
      "cell_type": "code",
      "execution_count": 32,
      "id": "b6e59dca",
      "metadata": {
        "colab": {
          "base_uri": "https://localhost:8080/"
        },
        "id": "b6e59dca",
        "outputId": "4d1eed7a-ada3-49e2-c4ec-bfc50fc8dd02"
      },
      "outputs": [
        {
          "output_type": "stream",
          "name": "stdout",
          "text": [
            "+--------------+-----------------+\n",
            "|purchase_value|     Value_in_USD|\n",
            "+--------------+-----------------+\n",
            "|         65278|791.0567135239942|\n",
            "|         96399|1168.189529810955|\n",
            "+--------------+-----------------+\n",
            "only showing top 2 rows\n",
            "\n"
          ]
        }
      ],
      "source": [
        "df = df.withColumn('Value_in_USD',df['purchase_value']/82.52)\n",
        "df.select(['purchase_value','Value_in_USD']).show(2)"
      ]
    },
    {
      "cell_type": "code",
      "execution_count": 33,
      "id": "c9caca7c",
      "metadata": {
        "id": "c9caca7c"
      },
      "outputs": [],
      "source": [
        "from pyspark.sql.functions import format_number"
      ]
    },
    {
      "cell_type": "code",
      "execution_count": 34,
      "id": "88955ab1",
      "metadata": {
        "colab": {
          "base_uri": "https://localhost:8080/"
        },
        "id": "88955ab1",
        "outputId": "53429eec-2df3-41ed-a1e3-343e0407d1ff"
      },
      "outputs": [
        {
          "output_type": "stream",
          "name": "stdout",
          "text": [
            "+--------------+------------+\n",
            "|purchase_value|Value_in_USD|\n",
            "+--------------+------------+\n",
            "|         65278|      791.06|\n",
            "|         96399|    1,168.19|\n",
            "+--------------+------------+\n",
            "only showing top 2 rows\n",
            "\n"
          ]
        }
      ],
      "source": [
        "df.select(['purchase_value'\n",
        "                           ,format_number('Value_in_USD', 2).alias('Value_in_USD')]).show(2)"
      ]
    },
    {
      "cell_type": "markdown",
      "id": "9b010129",
      "metadata": {
        "id": "9b010129"
      },
      "source": [
        "#### Add column with incremental values from 1 onwards with range(start, stop, step)"
      ]
    },
    {
      "cell_type": "code",
      "execution_count": 35,
      "id": "cafecaf3",
      "metadata": {
        "colab": {
          "base_uri": "https://localhost:8080/"
        },
        "id": "cafecaf3",
        "outputId": "71608ff4-563e-47de-e2d2-30dcccd3ab8f"
      },
      "outputs": [
        {
          "output_type": "stream",
          "name": "stdout",
          "text": [
            "+-------+----------------+----------------+--------------+-------------+------+-------+---+-------------+-----+---------------+----------+-----------------+-------------------------+-----------------+-------+\n",
            "|user_id|signup_time     |purchase_time   |purchase_value|device_id    |source|browser|sex|ip_address   |class|category       |dob       |name             |email                    |Value_in_USD     |counter|\n",
            "+-------+----------------+----------------+--------------+-------------+------+-------+---+-------------+-----+---------------+----------+-----------------+-------------------------+-----------------+-------+\n",
            "|22058  |24-02-2015 22:55|18-04-2015 02:47|65278         |QVPSPJUOCKZAR|SEO   |Chrome |M  |7.327583688E8|0    |home_essentials|22-02-1976|Aaron P Maashoh  |aaron.maashoh@yahoo.com  |791.0567135239942|0      |\n",
            "|333320 |07-06-2015 20:39|08-06-2015 01:38|96399         |EOGFQPIZPYXFZ|Ads   |Chrome |F  |3.503113879E8|0    |apparels       |02-01-1962|Rick D Rothackerj|rick_rothackerj@yahoo.com|1168.189529810955|1      |\n",
            "+-------+----------------+----------------+--------------+-------------+------+-------+---+-------------+-----+---------------+----------+-----------------+-------------------------+-----------------+-------+\n",
            "only showing top 2 rows\n",
            "\n"
          ]
        }
      ],
      "source": [
        "from pyspark.sql.functions import monotonically_increasing_id\n",
        "df = df.withColumn('counter', monotonically_increasing_id())\n",
        "df.show(2, truncate = False)"
      ]
    },
    {
      "cell_type": "markdown",
      "id": "9d5140f4",
      "metadata": {
        "id": "9d5140f4"
      },
      "source": [
        "# Module 6.1 :Text functions"
      ]
    },
    {
      "cell_type": "markdown",
      "id": "7e1b9b5c",
      "metadata": {
        "id": "7e1b9b5c"
      },
      "source": [
        "#### use length function -- to finds the length of a character string"
      ]
    },
    {
      "cell_type": "code",
      "execution_count": 36,
      "id": "f4cf6e04",
      "metadata": {
        "colab": {
          "base_uri": "https://localhost:8080/"
        },
        "id": "f4cf6e04",
        "outputId": "6ecba448-53ee-4fc7-a153-722feefc9e35"
      },
      "outputs": [
        {
          "output_type": "stream",
          "name": "stdout",
          "text": [
            "+--------------------+------------+\n",
            "|               email|email_length|\n",
            "+--------------------+------------+\n",
            "|aaron.maashoh@yah...|          23|\n",
            "|rick_rothackerj@y...|          25|\n",
            "+--------------------+------------+\n",
            "only showing top 2 rows\n",
            "\n"
          ]
        }
      ],
      "source": [
        "#from pyspark.sql.functions import length\n",
        "#or better \n",
        "from pyspark.sql.functions import *\n",
        "df = df.withColumn('email_length',length('email'))\n",
        "df.select(['email','email_length']).show(2)"
      ]
    },
    {
      "cell_type": "markdown",
      "id": "dd562d9e",
      "metadata": {
        "id": "dd562d9e"
      },
      "source": [
        "#### How to change the case of a string"
      ]
    },
    {
      "cell_type": "code",
      "execution_count": 37,
      "id": "828cd075",
      "metadata": {
        "colab": {
          "base_uri": "https://localhost:8080/"
        },
        "id": "828cd075",
        "outputId": "d06d43fd-e0c8-42ad-c8ad-d7c39b79c737"
      },
      "outputs": [
        {
          "output_type": "stream",
          "name": "stdout",
          "text": [
            "+-------------------------+-------------------------+-------------------------+-------------------------+\n",
            "|email                    |email_all_caps           |email_all_lower          |email_propcase           |\n",
            "+-------------------------+-------------------------+-------------------------+-------------------------+\n",
            "|aaron.maashoh@yahoo.com  |AARON.MAASHOH@YAHOO.COM  |aaron.maashoh@yahoo.com  |Aaron.maashoh@yahoo.com  |\n",
            "|rick_rothackerj@yahoo.com|RICK_ROTHACKERJ@YAHOO.COM|rick_rothackerj@yahoo.com|Rick_rothackerj@yahoo.com|\n",
            "+-------------------------+-------------------------+-------------------------+-------------------------+\n",
            "only showing top 2 rows\n",
            "\n"
          ]
        }
      ],
      "source": [
        "df = df.withColumn('email_all_caps',upper ('email'))\n",
        "df = df.withColumn('email_all_lower',lower('email_all_caps'))\n",
        "df = df.withColumn('email_propcase',initcap('email_all_caps'))\n",
        "\n",
        "df.select(['email','email_all_caps','email_all_lower','email_propcase']).show(2, truncate = False)"
      ]
    },
    {
      "cell_type": "markdown",
      "id": "0f8c66ae",
      "metadata": {
        "id": "0f8c66ae"
      },
      "source": [
        "#### instr  and locate functions - finds the first occurenece position of a character in a column of strings"
      ]
    },
    {
      "cell_type": "code",
      "execution_count": 38,
      "id": "d702bb8f",
      "metadata": {
        "colab": {
          "base_uri": "https://localhost:8080/"
        },
        "id": "d702bb8f",
        "outputId": "dee1881b-7e95-44b2-98f3-2678fb03623d"
      },
      "outputs": [
        {
          "output_type": "stream",
          "name": "stdout",
          "text": [
            "+-------------------------+-------------+-------------+------------------+\n",
            "|email_propcase           |Position_of_@|Position_of_a|Position_of_A_CAPS|\n",
            "+-------------------------+-------------+-------------+------------------+\n",
            "|Aaron.maashoh@yahoo.com  |14           |2            |1                 |\n",
            "|Rick_rothackerj@yahoo.com|16           |10           |0                 |\n",
            "+-------------------------+-------------+-------------+------------------+\n",
            "only showing top 2 rows\n",
            "\n"
          ]
        }
      ],
      "source": [
        "df = df.withColumn('Position_of_@',instr('email_propcase','@'))\n",
        "df = df.withColumn('Position_of_a',instr('email_propcase','a'))\n",
        "df = df.withColumn('Position_of_A_CAPS',instr('email_propcase','A'))\n",
        "\n",
        "df.select(['email_propcase','Position_of_@','Position_of_a','Position_of_A_CAPS']).show(2,truncate = False)"
      ]
    },
    {
      "cell_type": "code",
      "execution_count": 39,
      "id": "df247de9",
      "metadata": {
        "colab": {
          "base_uri": "https://localhost:8080/"
        },
        "id": "df247de9",
        "outputId": "0dd9ea6c-1751-4c56-b053-8b7eaa427740"
      },
      "outputs": [
        {
          "output_type": "stream",
          "name": "stdout",
          "text": [
            "+-------------------------+-------------+-------------+------------------+\n",
            "|email_propcase           |Location_of_@|Location_of_a|Location_of_A_CAPS|\n",
            "+-------------------------+-------------+-------------+------------------+\n",
            "|Aaron.maashoh@yahoo.com  |14           |2            |1                 |\n",
            "|Rick_rothackerj@yahoo.com|16           |10           |0                 |\n",
            "+-------------------------+-------------+-------------+------------------+\n",
            "only showing top 2 rows\n",
            "\n"
          ]
        }
      ],
      "source": [
        "df = df.withColumn('Location_of_@',locate('@','email_propcase'))\n",
        "df = df.withColumn('Location_of_a',locate('a','email_propcase'))\n",
        "df = df.withColumn('Location_of_A_CAPS',locate('A','email_propcase'))\n",
        "df.select(['email_propcase','Location_of_@','Location_of_a','Location_of_A_CAPS']).show(2,truncate = False)"
      ]
    },
    {
      "cell_type": "markdown",
      "id": "e41ea3b4",
      "metadata": {
        "id": "e41ea3b4"
      },
      "source": [
        "#### How to split a string on the basis of a delimiter, example portion in email before and after @"
      ]
    },
    {
      "cell_type": "code",
      "execution_count": 40,
      "id": "51bceb9b",
      "metadata": {
        "scrolled": true,
        "colab": {
          "base_uri": "https://localhost:8080/"
        },
        "id": "51bceb9b",
        "outputId": "a0016ba8-cecf-4ff2-d286-8f1f1a256590"
      },
      "outputs": [
        {
          "output_type": "stream",
          "name": "stdout",
          "text": [
            "+-------------------------+---------------+-----------+\n",
            "|email                    |email_part1    |email_part2|\n",
            "+-------------------------+---------------+-----------+\n",
            "|aaron.maashoh@yahoo.com  |aaron.maashoh  |yahoo.com  |\n",
            "|rick_rothackerj@yahoo.com|rick_rothackerj|yahoo.com  |\n",
            "+-------------------------+---------------+-----------+\n",
            "only showing top 2 rows\n",
            "\n"
          ]
        }
      ],
      "source": [
        "df = df.withColumn('email_part1',substring_index(df.email, '@', 1))\n",
        "df = df.withColumn('email_part2',substring_index(df.email, '@', -1))\n",
        "df.select(['email','email_part1','email_part2']).show(2,truncate = False)"
      ]
    },
    {
      "cell_type": "markdown",
      "id": "5558f90d",
      "metadata": {
        "id": "5558f90d"
      },
      "source": [
        "#### Another way is using a split function"
      ]
    },
    {
      "cell_type": "code",
      "execution_count": 41,
      "id": "cb19b2a7",
      "metadata": {
        "colab": {
          "base_uri": "https://localhost:8080/"
        },
        "id": "cb19b2a7",
        "outputId": "81173f92-d3f5-438f-8036-ed83f5fba987"
      },
      "outputs": [
        {
          "output_type": "stream",
          "name": "stdout",
          "text": [
            "+--------------------------+---------------+-----------+\n",
            "|email                     |email_part1    |email_part2|\n",
            "+--------------------------+---------------+-----------+\n",
            "|aaron.maashoh@yahoo.com   |aaron.maashoh  |yahoo.com  |\n",
            "|rick_rothackerj@yahoo.com |rick_rothackerj|yahoo.com  |\n",
            "|harriet.mcleodd@gmail.com |harriet.mcleodd|gmail.com  |\n",
            "|sinead.carews@gmail.com   |sinead.carews  |gmail.com  |\n",
            "|laurence.frosty@tntech.edu|laurence.frosty|tntech.edu |\n",
            "+--------------------------+---------------+-----------+\n",
            "only showing top 5 rows\n",
            "\n"
          ]
        }
      ],
      "source": [
        "df.select('email',split(df.email,\"@\").getItem(0).alias(\"email_part1\")\n",
        "                 ,split(df.email,\"@\").getItem(1).alias(\"email_part2\")).show(5,truncate = False)"
      ]
    },
    {
      "cell_type": "markdown",
      "id": "f047d06d",
      "metadata": {
        "id": "f047d06d"
      },
      "source": [
        "#### let's now cponcatename the strings"
      ]
    },
    {
      "cell_type": "code",
      "execution_count": 42,
      "id": "aac2a381",
      "metadata": {
        "colab": {
          "base_uri": "https://localhost:8080/"
        },
        "id": "aac2a381",
        "outputId": "5b0972f2-5f1c-4bbc-b61f-afcb9dfe0504"
      },
      "outputs": [
        {
          "output_type": "stream",
          "name": "stdout",
          "text": [
            "+---------------+-----------+-------------------------+\n",
            "|email_part1    |email_part2|FULL_EMAIL               |\n",
            "+---------------+-----------+-------------------------+\n",
            "|aaron.maashoh  |yahoo.com  |aaron.maashoh@yahoo.com  |\n",
            "|rick_rothackerj|yahoo.com  |rick_rothackerj@yahoo.com|\n",
            "+---------------+-----------+-------------------------+\n",
            "only showing top 2 rows\n",
            "\n"
          ]
        }
      ],
      "source": [
        "df.select('email_part1','email_part2',concat(df.email_part1,lit(\"@\"),df.email_part2).alias(\"FULL_EMAIL\")).show(2,truncate = False)"
      ]
    },
    {
      "cell_type": "markdown",
      "id": "d5b46595",
      "metadata": {
        "id": "d5b46595"
      },
      "source": [
        "### In the above example, we also used function \"lit\", which is used to create a column with one static value in a column, lit is abbreviation of literal. \n",
        "#### Following method is close of \"CATX\" function in SAS"
      ]
    },
    {
      "cell_type": "code",
      "execution_count": 43,
      "id": "78c85c0d",
      "metadata": {
        "colab": {
          "base_uri": "https://localhost:8080/"
        },
        "id": "78c85c0d",
        "outputId": "a0f6cbb8-4f94-4d9b-f15a-c6d7252e6a1d"
      },
      "outputs": [
        {
          "output_type": "stream",
          "name": "stdout",
          "text": [
            "+---------------+-----------+-------------------------+\n",
            "|email_part1    |email_part2|FULL_EMAIL               |\n",
            "+---------------+-----------+-------------------------+\n",
            "|aaron.maashoh  |yahoo.com  |aaron.maashoh@yahoo.com  |\n",
            "|rick_rothackerj|yahoo.com  |rick_rothackerj@yahoo.com|\n",
            "+---------------+-----------+-------------------------+\n",
            "only showing top 2 rows\n",
            "\n"
          ]
        }
      ],
      "source": [
        "df.select('email_part1','email_part2',concat_ws('@',df.email_part1,df.email_part2).alias(\"FULL_EMAIL\")).show(2,truncate = False)"
      ]
    },
    {
      "cell_type": "markdown",
      "id": "782087d9",
      "metadata": {
        "id": "782087d9"
      },
      "source": [
        "#### Using a substr function in Pyspark"
      ]
    },
    {
      "cell_type": "code",
      "execution_count": 44,
      "id": "e2772be5",
      "metadata": {
        "colab": {
          "base_uri": "https://localhost:8080/"
        },
        "id": "e2772be5",
        "outputId": "af00cdd8-0d98-4992-f8e3-85523b395279"
      },
      "outputs": [
        {
          "output_type": "stream",
          "name": "stdout",
          "text": [
            "+-------------------------+-------------+\n",
            "|email                    |email_first_3|\n",
            "+-------------------------+-------------+\n",
            "|aaron.maashoh@yahoo.com  |aar          |\n",
            "|rick_rothackerj@yahoo.com|ric          |\n",
            "+-------------------------+-------------+\n",
            "only showing top 2 rows\n",
            "\n"
          ]
        }
      ],
      "source": [
        "df = df.withColumn('email_first_3',df.email.substr(1,3))\n",
        "df.select(['email','email_first_3']).show(2,truncate = False)"
      ]
    },
    {
      "cell_type": "markdown",
      "id": "d661380d",
      "metadata": {
        "id": "d661380d"
      },
      "source": [
        "## Another method to use these functions is with a 'select' statement, which is quite simple and SQL style"
      ]
    },
    {
      "cell_type": "code",
      "execution_count": 45,
      "id": "b306911d",
      "metadata": {
        "colab": {
          "base_uri": "https://localhost:8080/"
        },
        "id": "b306911d",
        "outputId": "19413df2-ca6c-44f6-e2fd-094876a07e75"
      },
      "outputs": [
        {
          "output_type": "stream",
          "name": "stdout",
          "text": [
            "+--------------------------+-------------+\n",
            "|email                     |email_first_3|\n",
            "+--------------------------+-------------+\n",
            "|aaron.maashoh@yahoo.com   |aar          |\n",
            "|rick_rothackerj@yahoo.com |ric          |\n",
            "|harriet.mcleodd@gmail.com |har          |\n",
            "|sinead.carews@gmail.com   |sin          |\n",
            "|laurence.frosty@tntech.edu|lau          |\n",
            "+--------------------------+-------------+\n",
            "only showing top 5 rows\n",
            "\n"
          ]
        }
      ],
      "source": [
        "df1 = df.select('email',substring(df.email, 1, 3).alias('email_first_3'))\n",
        "df1.show(5,truncate = False)"
      ]
    },
    {
      "cell_type": "markdown",
      "id": "c104e690",
      "metadata": {
        "id": "c104e690"
      },
      "source": [
        "#### Translate function works same as it works in SAS"
      ]
    },
    {
      "cell_type": "code",
      "execution_count": 46,
      "id": "9d46fac3",
      "metadata": {
        "colab": {
          "base_uri": "https://localhost:8080/"
        },
        "id": "9d46fac3",
        "outputId": "1057f058-39fd-4934-d109-26ae7bf6e8b9"
      },
      "outputs": [
        {
          "output_type": "stream",
          "name": "stdout",
          "text": [
            "+--------------------------+--------------------------+\n",
            "|email                     |email_translated          |\n",
            "+--------------------------+--------------------------+\n",
            "|aaron.maashoh@yahoo.com   |XXron.mXXshoh@yXhoo.com   |\n",
            "|rick_rothackerj@yahoo.com |rick_rothXckerj@yXhoo.com |\n",
            "|harriet.mcleodd@gmail.com |hXrriet.mcleodd@gmXil.com |\n",
            "|sinead.carews@gmail.com   |sineXd.cXrews@gmXil.com   |\n",
            "|laurence.frosty@tntech.edu|lXurence.frosty@tntech.edu|\n",
            "+--------------------------+--------------------------+\n",
            "only showing top 5 rows\n",
            "\n"
          ]
        }
      ],
      "source": [
        "df1 = df.select('email',translate(df.email, 'a', 'X').alias('email_translated'))\n",
        "df1.show(5,truncate = False)"
      ]
    },
    {
      "cell_type": "markdown",
      "id": "807b1864",
      "metadata": {
        "id": "807b1864"
      },
      "source": [
        "#### Following is the SAS Tranwrd equivalent, but with regular expression it becomes much more versatile."
      ]
    },
    {
      "cell_type": "code",
      "execution_count": 47,
      "id": "767af6e6",
      "metadata": {
        "colab": {
          "base_uri": "https://localhost:8080/"
        },
        "id": "767af6e6",
        "outputId": "400dd0a5-20cf-4614-a676-dee23d075f58"
      },
      "outputs": [
        {
          "output_type": "stream",
          "name": "stdout",
          "text": [
            "+--------------------------+---------------------------+\n",
            "|email                     |regex_replaced             |\n",
            "+--------------------------+---------------------------+\n",
            "|aaron.maashoh@yahoo.com   |aaron.maashoh@some_domain  |\n",
            "|rick_rothackerj@yahoo.com |rick_rothackerj@some_domain|\n",
            "|harriet.mcleodd@gmail.com |harriet.mcleodd@some_domain|\n",
            "|sinead.carews@gmail.com   |sinead.carews@some_domain  |\n",
            "|laurence.frosty@tntech.edu|laurence.frosty@some_domain|\n",
            "+--------------------------+---------------------------+\n",
            "only showing top 5 rows\n",
            "\n"
          ]
        }
      ],
      "source": [
        "df1 = df.select('email',regexp_replace(df.email, ('@\\w+\\.\\w+'), '@some_domain').alias('regex_replaced'))\n",
        "df1.show(5,truncate = False)"
      ]
    },
    {
      "cell_type": "code",
      "execution_count": 48,
      "id": "b5cc95d6",
      "metadata": {
        "colab": {
          "base_uri": "https://localhost:8080/"
        },
        "id": "b5cc95d6",
        "outputId": "5fb81a03-553d-4f19-9185-2e2030369bad"
      },
      "outputs": [
        {
          "output_type": "stream",
          "name": "stderr",
          "text": [
            "/usr/local/lib/python3.10/dist-packages/pyspark/pandas/__init__.py:50: UserWarning: 'PYARROW_IGNORE_TIMEZONE' environment variable was not set. It is required to set this environment variable to '1' in both driver and executor sides if you use pyarrow>=2.0.0. pandas-on-Spark will set it for you but it does not work if there is a Spark context already launched.\n",
            "  warnings.warn(\n"
          ]
        }
      ],
      "source": [
        "import pyspark.pandas as ps\n",
        "# We can convert a pyspark data to Pandas dataframe, and vice versa as well\n",
        "PYARROW_IGNORE_TIMEZONE = 1\n",
        "result_pdf = df1.toPandas()"
      ]
    },
    {
      "cell_type": "code",
      "execution_count": 49,
      "id": "079b692f",
      "metadata": {
        "colab": {
          "base_uri": "https://localhost:8080/",
          "height": 206
        },
        "id": "079b692f",
        "outputId": "e7fc42fc-040c-46df-882a-11bd9fca6293"
      },
      "outputs": [
        {
          "output_type": "execute_result",
          "data": {
            "text/plain": [
              "                        email               regex_replaced\n",
              "0     aaron.maashoh@yahoo.com    aaron.maashoh@some_domain\n",
              "1   rick_rothackerj@yahoo.com  rick_rothackerj@some_domain\n",
              "2   harriet.mcleodd@gmail.com  harriet.mcleodd@some_domain\n",
              "3     sinead.carews@gmail.com    sinead.carews@some_domain\n",
              "4  laurence.frosty@tntech.edu  laurence.frosty@some_domain"
            ],
            "text/html": [
              "\n",
              "  <div id=\"df-e50189a4-d6cd-4e30-9973-0f319ac47551\">\n",
              "    <div class=\"colab-df-container\">\n",
              "      <div>\n",
              "<style scoped>\n",
              "    .dataframe tbody tr th:only-of-type {\n",
              "        vertical-align: middle;\n",
              "    }\n",
              "\n",
              "    .dataframe tbody tr th {\n",
              "        vertical-align: top;\n",
              "    }\n",
              "\n",
              "    .dataframe thead th {\n",
              "        text-align: right;\n",
              "    }\n",
              "</style>\n",
              "<table border=\"1\" class=\"dataframe\">\n",
              "  <thead>\n",
              "    <tr style=\"text-align: right;\">\n",
              "      <th></th>\n",
              "      <th>email</th>\n",
              "      <th>regex_replaced</th>\n",
              "    </tr>\n",
              "  </thead>\n",
              "  <tbody>\n",
              "    <tr>\n",
              "      <th>0</th>\n",
              "      <td>aaron.maashoh@yahoo.com</td>\n",
              "      <td>aaron.maashoh@some_domain</td>\n",
              "    </tr>\n",
              "    <tr>\n",
              "      <th>1</th>\n",
              "      <td>rick_rothackerj@yahoo.com</td>\n",
              "      <td>rick_rothackerj@some_domain</td>\n",
              "    </tr>\n",
              "    <tr>\n",
              "      <th>2</th>\n",
              "      <td>harriet.mcleodd@gmail.com</td>\n",
              "      <td>harriet.mcleodd@some_domain</td>\n",
              "    </tr>\n",
              "    <tr>\n",
              "      <th>3</th>\n",
              "      <td>sinead.carews@gmail.com</td>\n",
              "      <td>sinead.carews@some_domain</td>\n",
              "    </tr>\n",
              "    <tr>\n",
              "      <th>4</th>\n",
              "      <td>laurence.frosty@tntech.edu</td>\n",
              "      <td>laurence.frosty@some_domain</td>\n",
              "    </tr>\n",
              "  </tbody>\n",
              "</table>\n",
              "</div>\n",
              "      <button class=\"colab-df-convert\" onclick=\"convertToInteractive('df-e50189a4-d6cd-4e30-9973-0f319ac47551')\"\n",
              "              title=\"Convert this dataframe to an interactive table.\"\n",
              "              style=\"display:none;\">\n",
              "        \n",
              "  <svg xmlns=\"http://www.w3.org/2000/svg\" height=\"24px\"viewBox=\"0 0 24 24\"\n",
              "       width=\"24px\">\n",
              "    <path d=\"M0 0h24v24H0V0z\" fill=\"none\"/>\n",
              "    <path d=\"M18.56 5.44l.94 2.06.94-2.06 2.06-.94-2.06-.94-.94-2.06-.94 2.06-2.06.94zm-11 1L8.5 8.5l.94-2.06 2.06-.94-2.06-.94L8.5 2.5l-.94 2.06-2.06.94zm10 10l.94 2.06.94-2.06 2.06-.94-2.06-.94-.94-2.06-.94 2.06-2.06.94z\"/><path d=\"M17.41 7.96l-1.37-1.37c-.4-.4-.92-.59-1.43-.59-.52 0-1.04.2-1.43.59L10.3 9.45l-7.72 7.72c-.78.78-.78 2.05 0 2.83L4 21.41c.39.39.9.59 1.41.59.51 0 1.02-.2 1.41-.59l7.78-7.78 2.81-2.81c.8-.78.8-2.07 0-2.86zM5.41 20L4 18.59l7.72-7.72 1.47 1.35L5.41 20z\"/>\n",
              "  </svg>\n",
              "      </button>\n",
              "      \n",
              "  <style>\n",
              "    .colab-df-container {\n",
              "      display:flex;\n",
              "      flex-wrap:wrap;\n",
              "      gap: 12px;\n",
              "    }\n",
              "\n",
              "    .colab-df-convert {\n",
              "      background-color: #E8F0FE;\n",
              "      border: none;\n",
              "      border-radius: 50%;\n",
              "      cursor: pointer;\n",
              "      display: none;\n",
              "      fill: #1967D2;\n",
              "      height: 32px;\n",
              "      padding: 0 0 0 0;\n",
              "      width: 32px;\n",
              "    }\n",
              "\n",
              "    .colab-df-convert:hover {\n",
              "      background-color: #E2EBFA;\n",
              "      box-shadow: 0px 1px 2px rgba(60, 64, 67, 0.3), 0px 1px 3px 1px rgba(60, 64, 67, 0.15);\n",
              "      fill: #174EA6;\n",
              "    }\n",
              "\n",
              "    [theme=dark] .colab-df-convert {\n",
              "      background-color: #3B4455;\n",
              "      fill: #D2E3FC;\n",
              "    }\n",
              "\n",
              "    [theme=dark] .colab-df-convert:hover {\n",
              "      background-color: #434B5C;\n",
              "      box-shadow: 0px 1px 3px 1px rgba(0, 0, 0, 0.15);\n",
              "      filter: drop-shadow(0px 1px 2px rgba(0, 0, 0, 0.3));\n",
              "      fill: #FFFFFF;\n",
              "    }\n",
              "  </style>\n",
              "\n",
              "      <script>\n",
              "        const buttonEl =\n",
              "          document.querySelector('#df-e50189a4-d6cd-4e30-9973-0f319ac47551 button.colab-df-convert');\n",
              "        buttonEl.style.display =\n",
              "          google.colab.kernel.accessAllowed ? 'block' : 'none';\n",
              "\n",
              "        async function convertToInteractive(key) {\n",
              "          const element = document.querySelector('#df-e50189a4-d6cd-4e30-9973-0f319ac47551');\n",
              "          const dataTable =\n",
              "            await google.colab.kernel.invokeFunction('convertToInteractive',\n",
              "                                                     [key], {});\n",
              "          if (!dataTable) return;\n",
              "\n",
              "          const docLinkHtml = 'Like what you see? Visit the ' +\n",
              "            '<a target=\"_blank\" href=https://colab.research.google.com/notebooks/data_table.ipynb>data table notebook</a>'\n",
              "            + ' to learn more about interactive tables.';\n",
              "          element.innerHTML = '';\n",
              "          dataTable['output_type'] = 'display_data';\n",
              "          await google.colab.output.renderOutput(dataTable, element);\n",
              "          const docLink = document.createElement('div');\n",
              "          docLink.innerHTML = docLinkHtml;\n",
              "          element.appendChild(docLink);\n",
              "        }\n",
              "      </script>\n",
              "    </div>\n",
              "  </div>\n",
              "  "
            ]
          },
          "metadata": {},
          "execution_count": 49
        }
      ],
      "source": [
        "result_pdf.head(5)"
      ]
    },
    {
      "cell_type": "markdown",
      "id": "59194314",
      "metadata": {
        "id": "59194314"
      },
      "source": [
        "# Module 7 : Regular Expressions (popular by name \"regex\")"
      ]
    },
    {
      "cell_type": "raw",
      "id": "a3924d42",
      "metadata": {
        "id": "a3924d42"
      },
      "source": [
        "We have already explained \"Regex\" in detail in our Panda's blog. Regex can also be used in pyspark, basic remnaining same.\n",
        "\n",
        "We can use the functions such as regexp_extract, regex_replace (already explained)"
      ]
    },
    {
      "cell_type": "code",
      "execution_count": 50,
      "id": "d1971c6d",
      "metadata": {
        "colab": {
          "base_uri": "https://localhost:8080/",
          "height": 174
        },
        "id": "d1971c6d",
        "outputId": "d53d37ed-e698-45b3-f6f4-6da634331465"
      },
      "outputs": [
        {
          "output_type": "execute_result",
          "data": {
            "text/plain": [
              "  Customer_id                      email\n",
              "0      cus_01     name.surname@gmail.com\n",
              "1      cus_02  anonymous123@yahoo.co.ukk\n",
              "2      cus_03          anonymous123@.com\n",
              "3      cus_04              a..@gmail.com"
            ],
            "text/html": [
              "\n",
              "  <div id=\"df-bddb06be-9c85-43ba-9878-dc1c1daf9d79\">\n",
              "    <div class=\"colab-df-container\">\n",
              "      <div>\n",
              "<style scoped>\n",
              "    .dataframe tbody tr th:only-of-type {\n",
              "        vertical-align: middle;\n",
              "    }\n",
              "\n",
              "    .dataframe tbody tr th {\n",
              "        vertical-align: top;\n",
              "    }\n",
              "\n",
              "    .dataframe thead th {\n",
              "        text-align: right;\n",
              "    }\n",
              "</style>\n",
              "<table border=\"1\" class=\"dataframe\">\n",
              "  <thead>\n",
              "    <tr style=\"text-align: right;\">\n",
              "      <th></th>\n",
              "      <th>Customer_id</th>\n",
              "      <th>email</th>\n",
              "    </tr>\n",
              "  </thead>\n",
              "  <tbody>\n",
              "    <tr>\n",
              "      <th>0</th>\n",
              "      <td>cus_01</td>\n",
              "      <td>name.surname@gmail.com</td>\n",
              "    </tr>\n",
              "    <tr>\n",
              "      <th>1</th>\n",
              "      <td>cus_02</td>\n",
              "      <td>anonymous123@yahoo.co.ukk</td>\n",
              "    </tr>\n",
              "    <tr>\n",
              "      <th>2</th>\n",
              "      <td>cus_03</td>\n",
              "      <td>anonymous123@.com</td>\n",
              "    </tr>\n",
              "    <tr>\n",
              "      <th>3</th>\n",
              "      <td>cus_04</td>\n",
              "      <td>a..@gmail.com</td>\n",
              "    </tr>\n",
              "  </tbody>\n",
              "</table>\n",
              "</div>\n",
              "      <button class=\"colab-df-convert\" onclick=\"convertToInteractive('df-bddb06be-9c85-43ba-9878-dc1c1daf9d79')\"\n",
              "              title=\"Convert this dataframe to an interactive table.\"\n",
              "              style=\"display:none;\">\n",
              "        \n",
              "  <svg xmlns=\"http://www.w3.org/2000/svg\" height=\"24px\"viewBox=\"0 0 24 24\"\n",
              "       width=\"24px\">\n",
              "    <path d=\"M0 0h24v24H0V0z\" fill=\"none\"/>\n",
              "    <path d=\"M18.56 5.44l.94 2.06.94-2.06 2.06-.94-2.06-.94-.94-2.06-.94 2.06-2.06.94zm-11 1L8.5 8.5l.94-2.06 2.06-.94-2.06-.94L8.5 2.5l-.94 2.06-2.06.94zm10 10l.94 2.06.94-2.06 2.06-.94-2.06-.94-.94-2.06-.94 2.06-2.06.94z\"/><path d=\"M17.41 7.96l-1.37-1.37c-.4-.4-.92-.59-1.43-.59-.52 0-1.04.2-1.43.59L10.3 9.45l-7.72 7.72c-.78.78-.78 2.05 0 2.83L4 21.41c.39.39.9.59 1.41.59.51 0 1.02-.2 1.41-.59l7.78-7.78 2.81-2.81c.8-.78.8-2.07 0-2.86zM5.41 20L4 18.59l7.72-7.72 1.47 1.35L5.41 20z\"/>\n",
              "  </svg>\n",
              "      </button>\n",
              "      \n",
              "  <style>\n",
              "    .colab-df-container {\n",
              "      display:flex;\n",
              "      flex-wrap:wrap;\n",
              "      gap: 12px;\n",
              "    }\n",
              "\n",
              "    .colab-df-convert {\n",
              "      background-color: #E8F0FE;\n",
              "      border: none;\n",
              "      border-radius: 50%;\n",
              "      cursor: pointer;\n",
              "      display: none;\n",
              "      fill: #1967D2;\n",
              "      height: 32px;\n",
              "      padding: 0 0 0 0;\n",
              "      width: 32px;\n",
              "    }\n",
              "\n",
              "    .colab-df-convert:hover {\n",
              "      background-color: #E2EBFA;\n",
              "      box-shadow: 0px 1px 2px rgba(60, 64, 67, 0.3), 0px 1px 3px 1px rgba(60, 64, 67, 0.15);\n",
              "      fill: #174EA6;\n",
              "    }\n",
              "\n",
              "    [theme=dark] .colab-df-convert {\n",
              "      background-color: #3B4455;\n",
              "      fill: #D2E3FC;\n",
              "    }\n",
              "\n",
              "    [theme=dark] .colab-df-convert:hover {\n",
              "      background-color: #434B5C;\n",
              "      box-shadow: 0px 1px 3px 1px rgba(0, 0, 0, 0.15);\n",
              "      filter: drop-shadow(0px 1px 2px rgba(0, 0, 0, 0.3));\n",
              "      fill: #FFFFFF;\n",
              "    }\n",
              "  </style>\n",
              "\n",
              "      <script>\n",
              "        const buttonEl =\n",
              "          document.querySelector('#df-bddb06be-9c85-43ba-9878-dc1c1daf9d79 button.colab-df-convert');\n",
              "        buttonEl.style.display =\n",
              "          google.colab.kernel.accessAllowed ? 'block' : 'none';\n",
              "\n",
              "        async function convertToInteractive(key) {\n",
              "          const element = document.querySelector('#df-bddb06be-9c85-43ba-9878-dc1c1daf9d79');\n",
              "          const dataTable =\n",
              "            await google.colab.kernel.invokeFunction('convertToInteractive',\n",
              "                                                     [key], {});\n",
              "          if (!dataTable) return;\n",
              "\n",
              "          const docLinkHtml = 'Like what you see? Visit the ' +\n",
              "            '<a target=\"_blank\" href=https://colab.research.google.com/notebooks/data_table.ipynb>data table notebook</a>'\n",
              "            + ' to learn more about interactive tables.';\n",
              "          element.innerHTML = '';\n",
              "          dataTable['output_type'] = 'display_data';\n",
              "          await google.colab.output.renderOutput(dataTable, element);\n",
              "          const docLink = document.createElement('div');\n",
              "          docLink.innerHTML = docLinkHtml;\n",
              "          element.appendChild(docLink);\n",
              "        }\n",
              "      </script>\n",
              "    </div>\n",
              "  </div>\n",
              "  "
            ]
          },
          "metadata": {},
          "execution_count": 50
        }
      ],
      "source": [
        "import pandas as pd\n",
        "data = {'Customer_id': ['cus_01', 'cus_02', 'cus_03', 'cus_04'], \n",
        "        'email': ['name.surname@gmail.com','anonymous123@yahoo.co.ukk','anonymous123@.com','a..@gmail.com']\n",
        "        } \n",
        "pd_df = pd.DataFrame(data)\n",
        "pd_df"
      ]
    },
    {
      "cell_type": "raw",
      "id": "62d98c37",
      "metadata": {
        "id": "62d98c37"
      },
      "source": [
        "let's convert the Pandas data to Pyspark"
      ]
    },
    {
      "cell_type": "code",
      "execution_count": 51,
      "id": "fb552dfe",
      "metadata": {
        "id": "fb552dfe"
      },
      "outputs": [],
      "source": [
        "spark.conf.set(\"spark.sql.execution.arrow.pyspark.enabled\", \"true\")\n",
        "df_py = spark.createDataFrame(pd_df)"
      ]
    },
    {
      "cell_type": "code",
      "execution_count": 52,
      "id": "f4cd15fd",
      "metadata": {
        "colab": {
          "base_uri": "https://localhost:8080/"
        },
        "id": "f4cd15fd",
        "outputId": "a9667de0-8eec-40ae-f2d5-4e0596b3f1fe"
      },
      "outputs": [
        {
          "output_type": "stream",
          "name": "stdout",
          "text": [
            "+-----------+-------------------------+\n",
            "|Customer_id|email                    |\n",
            "+-----------+-------------------------+\n",
            "|cus_01     |name.surname@gmail.com   |\n",
            "|cus_02     |anonymous123@yahoo.co.ukk|\n",
            "|cus_03     |anonymous123@.com        |\n",
            "|cus_04     |a..@gmail.com            |\n",
            "+-----------+-------------------------+\n",
            "\n"
          ]
        }
      ],
      "source": [
        "df_py.show(truncate= False)"
      ]
    },
    {
      "cell_type": "code",
      "execution_count": 53,
      "id": "73365d7e",
      "metadata": {
        "colab": {
          "base_uri": "https://localhost:8080/"
        },
        "id": "73365d7e",
        "outputId": "c9ff1e3e-519c-4f56-8a80-6d858949c9a7"
      },
      "outputs": [
        {
          "output_type": "stream",
          "name": "stdout",
          "text": [
            "+-----------+-------------------------+-------------+\n",
            "|Customer_id|email                    |first_portion|\n",
            "+-----------+-------------------------+-------------+\n",
            "|cus_01     |name.surname@gmail.com   |name.surname |\n",
            "|cus_02     |anonymous123@yahoo.co.ukk|anonymous123 |\n",
            "|cus_03     |anonymous123@.com        |anonymous123 |\n",
            "|cus_04     |a..@gmail.com            |a..          |\n",
            "+-----------+-------------------------+-------------+\n",
            "\n"
          ]
        }
      ],
      "source": [
        "df_py.select('Customer_id', 'email', regexp_extract(df_py.email, '(\\w+[._-]*\\w*)', 1).alias('first_portion')).show(truncate= False)"
      ]
    },
    {
      "cell_type": "code",
      "execution_count": 54,
      "id": "cffdc864",
      "metadata": {
        "colab": {
          "base_uri": "https://localhost:8080/"
        },
        "id": "cffdc864",
        "outputId": "4e0db91b-9b51-4a0b-d41f-6b3086bce211"
      },
      "outputs": [
        {
          "output_type": "stream",
          "name": "stdout",
          "text": [
            "+-----------+-------------------------+--------------+\n",
            "|Customer_id|email                    |second_portion|\n",
            "+-----------+-------------------------+--------------+\n",
            "|cus_01     |name.surname@gmail.com   |gmail         |\n",
            "|cus_02     |anonymous123@yahoo.co.ukk|yahoo         |\n",
            "|cus_03     |anonymous123@.com        |              |\n",
            "|cus_04     |a..@gmail.com            |gmail         |\n",
            "+-----------+-------------------------+--------------+\n",
            "\n"
          ]
        }
      ],
      "source": [
        "df_py.select('Customer_id', 'email', regexp_extract(df_py.email, '@(\\w+)',1).alias('second_portion')).show(truncate= False)"
      ]
    },
    {
      "cell_type": "markdown",
      "id": "1d641069",
      "metadata": {
        "id": "1d641069"
      },
      "source": [
        "# Module 8 : Handling the Date Time"
      ]
    },
    {
      "cell_type": "code",
      "execution_count": 55,
      "id": "687bee00",
      "metadata": {
        "id": "687bee00"
      },
      "outputs": [],
      "source": [
        "df_dt = df.select ('signup_time','purchase_time',current_date().alias(\"todays_date\"),current_timestamp().alias(\"whats_time_now\"))"
      ]
    },
    {
      "cell_type": "code",
      "execution_count": 56,
      "id": "ce7b958c",
      "metadata": {
        "colab": {
          "base_uri": "https://localhost:8080/"
        },
        "id": "ce7b958c",
        "outputId": "b26f127b-454e-4da6-d96c-e4892f92413a"
      },
      "outputs": [
        {
          "output_type": "execute_result",
          "data": {
            "text/plain": [
              "[('signup_time', 'string'),\n",
              " ('purchase_time', 'string'),\n",
              " ('todays_date', 'date'),\n",
              " ('whats_time_now', 'timestamp')]"
            ]
          },
          "metadata": {},
          "execution_count": 56
        }
      ],
      "source": [
        "df_dt.dtypes"
      ]
    },
    {
      "cell_type": "code",
      "execution_count": 57,
      "id": "22c6378d",
      "metadata": {
        "colab": {
          "base_uri": "https://localhost:8080/"
        },
        "id": "22c6378d",
        "outputId": "348e29ac-38a7-4153-e042-68c8bc008f51"
      },
      "outputs": [
        {
          "output_type": "stream",
          "name": "stdout",
          "text": [
            "+----------------+----------------+-----------+--------------------------+\n",
            "|signup_time     |purchase_time   |todays_date|whats_time_now            |\n",
            "+----------------+----------------+-----------+--------------------------+\n",
            "|24-02-2015 22:55|18-04-2015 02:47|2023-05-09 |2023-05-09 07:49:19.719587|\n",
            "|07-06-2015 20:39|08-06-2015 01:38|2023-05-09 |2023-05-09 07:49:19.719587|\n",
            "|01-01-2015 18:52|01-01-2015 18:52|2023-05-09 |2023-05-09 07:49:19.719587|\n",
            "|28-04-2015 21:13|04-05-2015 13:54|2023-05-09 |2023-05-09 07:49:19.719587|\n",
            "+----------------+----------------+-----------+--------------------------+\n",
            "only showing top 4 rows\n",
            "\n"
          ]
        }
      ],
      "source": [
        "df_dt.show(4,truncate= False)"
      ]
    },
    {
      "cell_type": "code",
      "execution_count": 58,
      "id": "dcc5b031",
      "metadata": {
        "id": "dcc5b031"
      },
      "outputs": [],
      "source": [
        "df_dt1 = df_dt.select('*', to_timestamp('signup_time','M/d/y H:m').alias('converted_date'))"
      ]
    },
    {
      "cell_type": "code",
      "execution_count": null,
      "id": "9ebe67a7",
      "metadata": {
        "id": "9ebe67a7",
        "outputId": "644f8d86-2111-42a6-b443-502baa9f6f25"
      },
      "outputs": [
        {
          "name": "stdout",
          "output_type": "stream",
          "text": [
            "+---------------+--------------+-----------+-----------------------+-------------------+\n",
            "|signup_time    |purchase_time |todays_date|whats_time_now         |converted_date     |\n",
            "+---------------+--------------+-----------+-----------------------+-------------------+\n",
            "|2/24/2015 22:55|4/18/2015 2:47|2023-03-24 |2023-03-24 13:07:21.187|2015-02-24 22:55:00|\n",
            "|6/7/2015 20:39 |6/8/2015 1:38 |2023-03-24 |2023-03-24 13:07:21.187|2015-06-07 20:39:00|\n",
            "+---------------+--------------+-----------+-----------------------+-------------------+\n",
            "only showing top 2 rows\n",
            "\n"
          ]
        }
      ],
      "source": [
        "df_dt1.show(2,truncate = False)"
      ]
    },
    {
      "cell_type": "raw",
      "id": "05b16818",
      "metadata": {
        "id": "05b16818"
      },
      "source": [
        "useful link for datetime, https://spark.apache.org/docs/latest/sql-ref-datetime-pattern.html"
      ]
    },
    {
      "cell_type": "markdown",
      "id": "b280b796",
      "metadata": {
        "id": "b280b796"
      },
      "source": [
        "### get date, time, date elements, time elements from date"
      ]
    },
    {
      "cell_type": "code",
      "execution_count": 59,
      "id": "8b76cd38",
      "metadata": {
        "colab": {
          "base_uri": "https://localhost:8080/"
        },
        "id": "8b76cd38",
        "outputId": "6090a2d2-cc61-4875-b758-114bf8be67ec"
      },
      "outputs": [
        {
          "output_type": "stream",
          "name": "stdout",
          "text": [
            "+--------------+--------+----+-----+----+---------+----+----+----+\n",
            "|converted_date|datepart|year|month| day|dayofweek|hour| min| min|\n",
            "+--------------+--------+----+-----+----+---------+----+----+----+\n",
            "|          null|    null|null| null|null|     null|null|null|null|\n",
            "|          null|    null|null| null|null|     null|null|null|null|\n",
            "+--------------+--------+----+-----+----+---------+----+----+----+\n",
            "only showing top 2 rows\n",
            "\n"
          ]
        }
      ],
      "source": [
        "df_dt1.select('converted_date'\n",
        "              , to_date('converted_date').alias('datepart') \n",
        "              , year('converted_date').alias('year') \n",
        "              , month('converted_date').alias('month') \n",
        "              , dayofmonth('converted_date').alias('day') \n",
        "              , dayofweek('converted_date').alias(\"dayofweek\")\n",
        "              , hour('converted_date').alias('hour') \n",
        "              , minute('converted_date').alias('min') \n",
        "              , second('converted_date').alias('min') \n",
        "             ).show(2)"
      ]
    },
    {
      "cell_type": "markdown",
      "id": "bb8b2375",
      "metadata": {
        "id": "bb8b2375"
      },
      "source": [
        "### We can move the date - intnx funcationality in SAS or Trunc in Oracle SQL?"
      ]
    },
    {
      "cell_type": "raw",
      "id": "1919ea3b",
      "metadata": {
        "id": "1919ea3b"
      },
      "source": [
        "Let's derive:\n",
        "PMB >>>> Previous month beginning\n",
        "PME >>>> Previous month ending\n",
        "PYB >>>> Previous year beginning\n",
        "PYE >>>> Previous year ending\n",
        "PQB >>>> Previous quarter beginning\n",
        "PQE >>>> Previous quarter ending\n",
        "\n",
        "It is very much Oracle SQL style."
      ]
    },
    {
      "cell_type": "code",
      "execution_count": 60,
      "id": "2798c9d8",
      "metadata": {
        "colab": {
          "base_uri": "https://localhost:8080/"
        },
        "id": "2798c9d8",
        "outputId": "ef7d2864-dd20-439d-dcdb-a1933b5f6f97"
      },
      "outputs": [
        {
          "output_type": "stream",
          "name": "stdout",
          "text": [
            "+--------------+----+----+----+----+----+----+\n",
            "|converted_date| PMB| PME| PYB| PYE| PQB| PQE|\n",
            "+--------------+----+----+----+----+----+----+\n",
            "|          null|null|null|null|null|null|null|\n",
            "|          null|null|null|null|null|null|null|\n",
            "+--------------+----+----+----+----+----+----+\n",
            "only showing top 2 rows\n",
            "\n"
          ]
        }
      ],
      "source": [
        "df_dt1.select('converted_date'\n",
        "              , trunc(add_months('converted_date',-1),'Month').alias('PMB')\n",
        "              , (trunc('converted_date','Month')-1).alias('PME') \n",
        "              , trunc((trunc('converted_date','year')-1),'year').alias('PYB')\n",
        "              , (trunc('converted_date','year')-1).alias('PYE')\n",
        "              , trunc((trunc('converted_date','quarter')-1),'quarter').alias('PQB')\n",
        "              , (trunc('converted_date','quarter')-1).alias('PQE')\n",
        "\n",
        "             ).show(2)"
      ]
    },
    {
      "cell_type": "markdown",
      "id": "ace5785c",
      "metadata": {
        "id": "ace5785c"
      },
      "source": [
        "### Calculate gap between two dates"
      ]
    },
    {
      "cell_type": "code",
      "execution_count": 61,
      "id": "ac01a215",
      "metadata": {
        "colab": {
          "base_uri": "https://localhost:8080/"
        },
        "id": "ac01a215",
        "outputId": "2775f290-2338-47f1-e267-b8d454398356"
      },
      "outputs": [
        {
          "output_type": "stream",
          "name": "stdout",
          "text": [
            "+--------------+---------------+--------------+\n",
            "|converted_date|date_difference|months_between|\n",
            "+--------------+---------------+--------------+\n",
            "|          null|           null|          null|\n",
            "|          null|           null|          null|\n",
            "+--------------+---------------+--------------+\n",
            "only showing top 2 rows\n",
            "\n"
          ]
        }
      ],
      "source": [
        "df_dt1.select('converted_date'\n",
        "             , datediff(current_date(),'converted_date').alias('date_difference')  #simply give number of days in between (A-B)\n",
        "             , months_between(current_date(),'converted_date').alias('months_between')  #exact months, not just days/30\n",
        "             ).show(2)"
      ]
    },
    {
      "cell_type": "markdown",
      "id": "c32c8c37",
      "metadata": {
        "id": "c32c8c37"
      },
      "source": [
        "### Let's convert a date to charcter and back to date"
      ]
    },
    {
      "cell_type": "code",
      "execution_count": 62,
      "id": "03950b10",
      "metadata": {
        "id": "03950b10"
      },
      "outputs": [],
      "source": [
        "df_dt2 = df_dt1.select('converted_date'\n",
        " \n",
        "              , concat(year('converted_date') ,lit('-'),  month('converted_date') ,lit('-'), dayofmonth('converted_date')\n",
        "             ).alias('char_date'))"
      ]
    },
    {
      "cell_type": "code",
      "execution_count": 63,
      "id": "d05c0cc2",
      "metadata": {
        "colab": {
          "base_uri": "https://localhost:8080/"
        },
        "id": "d05c0cc2",
        "outputId": "201351d6-1e5a-4ca1-f4a1-07f8283a1f0c"
      },
      "outputs": [
        {
          "output_type": "stream",
          "name": "stdout",
          "text": [
            "+--------------+---------+\n",
            "|converted_date|char_date|\n",
            "+--------------+---------+\n",
            "|          null|     null|\n",
            "|          null|     null|\n",
            "+--------------+---------+\n",
            "only showing top 2 rows\n",
            "\n"
          ]
        }
      ],
      "source": [
        "df_dt2.show(2)"
      ]
    },
    {
      "cell_type": "code",
      "execution_count": 64,
      "id": "7dde0d2a",
      "metadata": {
        "colab": {
          "base_uri": "https://localhost:8080/"
        },
        "id": "7dde0d2a",
        "outputId": "07fcb33e-5163-4a75-ef7e-326130ff10a0"
      },
      "outputs": [
        {
          "output_type": "execute_result",
          "data": {
            "text/plain": [
              "[('converted_date', 'timestamp'), ('char_date', 'string')]"
            ]
          },
          "metadata": {},
          "execution_count": 64
        }
      ],
      "source": [
        "df_dt2.dtypes"
      ]
    },
    {
      "cell_type": "code",
      "execution_count": 65,
      "id": "8507cdd8",
      "metadata": {
        "id": "8507cdd8"
      },
      "outputs": [],
      "source": [
        "df_dt2 = df_dt2.select('*'\n",
        "                        ,to_date('char_date').alias('back_to_date'))"
      ]
    },
    {
      "cell_type": "code",
      "execution_count": 66,
      "id": "1e2c36c0",
      "metadata": {
        "colab": {
          "base_uri": "https://localhost:8080/"
        },
        "id": "1e2c36c0",
        "outputId": "27152159-1ddd-4936-b0b9-fa7c91c19abb"
      },
      "outputs": [
        {
          "output_type": "stream",
          "name": "stdout",
          "text": [
            "+--------------+---------+------------+\n",
            "|converted_date|char_date|back_to_date|\n",
            "+--------------+---------+------------+\n",
            "|          null|     null|        null|\n",
            "|          null|     null|        null|\n",
            "+--------------+---------+------------+\n",
            "only showing top 2 rows\n",
            "\n"
          ]
        }
      ],
      "source": [
        "df_dt2.show(2)"
      ]
    },
    {
      "cell_type": "code",
      "execution_count": 67,
      "id": "8ee57832",
      "metadata": {
        "scrolled": true,
        "colab": {
          "base_uri": "https://localhost:8080/"
        },
        "id": "8ee57832",
        "outputId": "2cf8ece0-076b-4571-eaa2-65ee9b1a0d6a"
      },
      "outputs": [
        {
          "output_type": "execute_result",
          "data": {
            "text/plain": [
              "[('converted_date', 'timestamp'),\n",
              " ('char_date', 'string'),\n",
              " ('back_to_date', 'date')]"
            ]
          },
          "metadata": {},
          "execution_count": 67
        }
      ],
      "source": [
        "df_dt2.dtypes"
      ]
    },
    {
      "cell_type": "markdown",
      "id": "78ad89f6",
      "metadata": {
        "id": "78ad89f6"
      },
      "source": [
        "# Module 9 : Arithmetic Operations on PySpark DataFrame"
      ]
    },
    {
      "cell_type": "code",
      "execution_count": 68,
      "id": "a31028e8",
      "metadata": {
        "colab": {
          "base_uri": "https://localhost:8080/"
        },
        "id": "a31028e8",
        "outputId": "e0604662-b6ab-4a5c-8516-dca1f0ef5c8c"
      },
      "outputs": [
        {
          "output_type": "stream",
          "name": "stdout",
          "text": [
            "+-------+-------+---+-----+-------------+-------------+------------------+-------------+-------------+-------+\n",
            "|user_id|browser|sex|class|class_plus_10|class_inverse|class_multiplied_2|class_divided|mod_remainder|powered|\n",
            "+-------+-------+---+-----+-------------+-------------+------------------+-------------+-------------+-------+\n",
            "|  22058| Chrome|  M|    0|           10|            1|                 0|          0.0|            1|  100.0|\n",
            "| 333320| Chrome|  F|    0|           10|            1|                 0|          0.0|            1|  100.0|\n",
            "|   1359|  Opera|  M|    1|           11|            0|                10|          0.5|            0|  121.0|\n",
            "| 150084| Safari|  M|    0|           10|            1|                 0|          0.0|            1|  100.0|\n",
            "| 221365| Safari|  M|    0|           10|            1|                 0|          0.0|            1|  100.0|\n",
            "+-------+-------+---+-----+-------------+-------------+------------------+-------------+-------------+-------+\n",
            "only showing top 5 rows\n",
            "\n"
          ]
        }
      ],
      "source": [
        "sample_1 = df.select('user_id','browser','sex','class')\n",
        "\n",
        "sample_1 = sample_1.withColumn('class_plus_10',col('class') + 10)\n",
        "sample_1 = sample_1.withColumn('class_inverse',1 - col('class') )\n",
        "sample_1 = sample_1.withColumn('class_multiplied_2',col('class') * 10)\n",
        "sample_1 = sample_1.withColumn('class_divided',col('class') / 2)\n",
        "sample_1 = sample_1.withColumn('mod_remainder',(col('class')+3) % 2)\n",
        "sample_1 = sample_1.select('*',pow('class_plus_10',2).alias('powered'))\n",
        "\n",
        "sample_1.show(5)"
      ]
    },
    {
      "cell_type": "markdown",
      "id": "6505ebe8",
      "metadata": {
        "id": "6505ebe8"
      },
      "source": [
        "# Module 10 : GroupBy() Method for PySpark DataFrame"
      ]
    },
    {
      "cell_type": "code",
      "execution_count": 69,
      "id": "e78a943d",
      "metadata": {
        "colab": {
          "base_uri": "https://localhost:8080/"
        },
        "id": "e78a943d",
        "outputId": "bf501be1-5132-4cb0-ff01-be21783f6b73"
      },
      "outputs": [
        {
          "output_type": "stream",
          "name": "stdout",
          "text": [
            "+-------+-------+---+-----+\n",
            "|user_id|browser|sex|class|\n",
            "+-------+-------+---+-----+\n",
            "|  22058| Chrome|  M|    0|\n",
            "| 333320| Chrome|  F|    0|\n",
            "|   1359|  Opera|  M|    1|\n",
            "| 150084| Safari|  M|    0|\n",
            "| 221365| Safari|  M|    0|\n",
            "+-------+-------+---+-----+\n",
            "only showing top 5 rows\n",
            "\n"
          ]
        }
      ],
      "source": [
        "sample_1 = df.select('user_id','browser','sex','class')\n",
        "sample_1.show(5)"
      ]
    },
    {
      "cell_type": "code",
      "execution_count": 70,
      "id": "9607db8c",
      "metadata": {
        "colab": {
          "base_uri": "https://localhost:8080/"
        },
        "id": "9607db8c",
        "outputId": "82c3b07b-44eb-4abb-8f35-8698c837ecc4"
      },
      "outputs": [
        {
          "output_type": "stream",
          "name": "stdout",
          "text": [
            "+-------+----+----------+\n",
            "|browser| sex|sum(class)|\n",
            "+-------+----+----------+\n",
            "|  Opera|   M|         2|\n",
            "| Safari|   F|         4|\n",
            "|FireFox|null|         1|\n",
            "|  Opera|   F|         2|\n",
            "| Chrome|   M|        23|\n",
            "|FireFox|   M|        11|\n",
            "| Chrome|   F|        11|\n",
            "|     IE|null|         1|\n",
            "| Chrome|null|         1|\n",
            "|     IE|   F|        12|\n",
            "|     IE|   M|        17|\n",
            "|FireFox|   F|         3|\n",
            "| Safari|   M|        13|\n",
            "|  Opera|null|         0|\n",
            "+-------+----+----------+\n",
            "\n"
          ]
        }
      ],
      "source": [
        "summary_data  = sample_1.groupBy('browser','sex').sum('class')\n",
        "summary_data.show()"
      ]
    },
    {
      "cell_type": "code",
      "execution_count": 71,
      "id": "4c6b9dbc",
      "metadata": {
        "colab": {
          "base_uri": "https://localhost:8080/"
        },
        "id": "4c6b9dbc",
        "outputId": "1441dbfe-0ba3-40db-93b7-f43fd9ec3e0a"
      },
      "outputs": [
        {
          "output_type": "stream",
          "name": "stdout",
          "text": [
            "+-------+----+---------+--------------------+---------+---------+-----------+--------------+\n",
            "|browser| sex|sum_class|           avg_class|min_class|max_class|count_class|count_distinct|\n",
            "+-------+----+---------+--------------------+---------+---------+-----------+--------------+\n",
            "|  Opera|   M|        2| 0.18181818181818182|        0|        1|         11|             2|\n",
            "| Safari|   F|        4|0.058823529411764705|        0|        1|         68|             2|\n",
            "|FireFox|null|        1|                 0.2|        0|        1|          5|             2|\n",
            "|  Opera|   F|        2|                0.25|        0|        1|          8|             2|\n",
            "| Chrome|   M|       23| 0.10550458715596331|        0|        1|        218|             2|\n",
            "|FireFox|   M|       11| 0.12359550561797752|        0|        1|         89|             2|\n",
            "| Chrome|   F|       11|  0.0658682634730539|        0|        1|        167|             2|\n",
            "|     IE|null|        1| 0.16666666666666666|        0|        1|          6|             2|\n",
            "| Chrome|null|        1| 0.08333333333333333|        0|        1|         12|             2|\n",
            "|     IE|   F|       12| 0.10909090909090909|        0|        1|        110|             2|\n",
            "|     IE|   M|       17| 0.11805555555555555|        0|        1|        144|             2|\n",
            "|FireFox|   F|        3| 0.04918032786885246|        0|        1|         61|             2|\n",
            "| Safari|   M|       13|  0.1326530612244898|        0|        1|         98|             2|\n",
            "|  Opera|null|        0|                 0.0|        0|        0|          2|             1|\n",
            "+-------+----+---------+--------------------+---------+---------+-----------+--------------+\n",
            "\n"
          ]
        }
      ],
      "source": [
        "# here is a better way:\n",
        "from pyspark.sql.functions import sum,avg,max,min,mean,count\n",
        "summary_data  = sample_1.groupBy('browser','sex').agg(sum('class').alias('sum_class') \\\n",
        "                                                      , mean('class').alias('avg_class') \\\n",
        "                                                      , min('class').alias('min_class') \\\n",
        "                                                      , max('class').alias('max_class') \\\n",
        "                                                      , count('class').alias('count_class')\n",
        "                                                      , countDistinct('class').alias('count_distinct')\n",
        "                                                     )\n",
        "summary_data.show()"
      ]
    },
    {
      "cell_type": "markdown",
      "id": "6ee1b4be",
      "metadata": {
        "id": "6ee1b4be"
      },
      "source": [
        "# Module 11: Another way to use where condition, first method was explained in Module 5"
      ]
    },
    {
      "cell_type": "raw",
      "id": "9464087f",
      "metadata": {
        "id": "9464087f"
      },
      "source": [
        "Here we are learning filtering based on:\n",
        "> one criterion\n",
        "> AND/OR and NOT condition and filter based on multiple criteria\n",
        "> NULL, NOT NULL\n",
        "> in (list)\n",
        "> startwith and endwith\n",
        "> contains\n",
        "> like\n",
        "> rlike ( for regular expression)\n",
        "\n",
        "We can use both keywords >> filter() and where()"
      ]
    },
    {
      "cell_type": "code",
      "execution_count": 72,
      "id": "a2b642b2",
      "metadata": {
        "colab": {
          "base_uri": "https://localhost:8080/"
        },
        "id": "a2b642b2",
        "outputId": "a4a12668-0468-4b3c-d76a-465418b5c546"
      },
      "outputs": [
        {
          "output_type": "stream",
          "name": "stdout",
          "text": [
            "+-------+---+---------+-------------------+---------+---------+-----------+--------------+\n",
            "|browser|sex|sum_class|          avg_class|min_class|max_class|count_class|count_distinct|\n",
            "+-------+---+---------+-------------------+---------+---------+-----------+--------------+\n",
            "|  Opera|  M|        2|0.18181818181818182|        0|        1|         11|             2|\n",
            "| Chrome|  M|       23|0.10550458715596331|        0|        1|        218|             2|\n",
            "|FireFox|  M|       11|0.12359550561797752|        0|        1|         89|             2|\n",
            "|     IE|  M|       17|0.11805555555555555|        0|        1|        144|             2|\n",
            "| Safari|  M|       13| 0.1326530612244898|        0|        1|         98|             2|\n",
            "+-------+---+---------+-------------------+---------+---------+-----------+--------------+\n",
            "\n"
          ]
        }
      ],
      "source": [
        "summary_data.filter(\"sex == 'M'\").show()"
      ]
    },
    {
      "cell_type": "code",
      "execution_count": 73,
      "id": "63cfe698",
      "metadata": {
        "colab": {
          "base_uri": "https://localhost:8080/"
        },
        "id": "63cfe698",
        "outputId": "05dbbb2d-309d-4bdf-e76b-1b8aac45954f"
      },
      "outputs": [
        {
          "output_type": "stream",
          "name": "stdout",
          "text": [
            "+-------+---+---------+-------------------+---------+---------+-----------+--------------+\n",
            "|browser|sex|sum_class|          avg_class|min_class|max_class|count_class|count_distinct|\n",
            "+-------+---+---------+-------------------+---------+---------+-----------+--------------+\n",
            "| Chrome|  M|       23|0.10550458715596331|        0|        1|        218|             2|\n",
            "+-------+---+---------+-------------------+---------+---------+-----------+--------------+\n",
            "\n"
          ]
        }
      ],
      "source": [
        "summary_data.filter((summary_data.sex == \"M\") & (summary_data.browser == \"Chrome\") ).show()"
      ]
    },
    {
      "cell_type": "code",
      "execution_count": 74,
      "id": "b34853dd",
      "metadata": {
        "colab": {
          "base_uri": "https://localhost:8080/"
        },
        "id": "b34853dd",
        "outputId": "d6689828-8dba-4562-ea1b-d19d82bda997"
      },
      "outputs": [
        {
          "output_type": "stream",
          "name": "stdout",
          "text": [
            "+-------+----+---------+-------------------+---------+---------+-----------+--------------+\n",
            "|browser| sex|sum_class|          avg_class|min_class|max_class|count_class|count_distinct|\n",
            "+-------+----+---------+-------------------+---------+---------+-----------+--------------+\n",
            "|  Opera|   M|        2|0.18181818181818182|        0|        1|         11|             2|\n",
            "| Chrome|   M|       23|0.10550458715596331|        0|        1|        218|             2|\n",
            "|FireFox|   M|       11|0.12359550561797752|        0|        1|         89|             2|\n",
            "| Chrome|   F|       11| 0.0658682634730539|        0|        1|        167|             2|\n",
            "| Chrome|null|        1|0.08333333333333333|        0|        1|         12|             2|\n",
            "|     IE|   M|       17|0.11805555555555555|        0|        1|        144|             2|\n",
            "| Safari|   M|       13| 0.1326530612244898|        0|        1|         98|             2|\n",
            "+-------+----+---------+-------------------+---------+---------+-----------+--------------+\n",
            "\n"
          ]
        }
      ],
      "source": [
        "summary_data.filter((summary_data.sex == \"M\") | (summary_data.browser == \"Chrome\") ).show()"
      ]
    },
    {
      "cell_type": "code",
      "execution_count": 75,
      "id": "748e31a0",
      "metadata": {
        "colab": {
          "base_uri": "https://localhost:8080/"
        },
        "id": "748e31a0",
        "outputId": "74d1e507-a3b3-45e4-dbaf-ce57767de643"
      },
      "outputs": [
        {
          "output_type": "stream",
          "name": "stdout",
          "text": [
            "+-------+---+---------+--------------------+---------+---------+-----------+--------------+\n",
            "|browser|sex|sum_class|           avg_class|min_class|max_class|count_class|count_distinct|\n",
            "+-------+---+---------+--------------------+---------+---------+-----------+--------------+\n",
            "| Safari|  F|        4|0.058823529411764705|        0|        1|         68|             2|\n",
            "|  Opera|  F|        2|                0.25|        0|        1|          8|             2|\n",
            "| Chrome|  F|       11|  0.0658682634730539|        0|        1|        167|             2|\n",
            "|     IE|  F|       12| 0.10909090909090909|        0|        1|        110|             2|\n",
            "|FireFox|  F|        3| 0.04918032786885246|        0|        1|         61|             2|\n",
            "+-------+---+---------+--------------------+---------+---------+-----------+--------------+\n",
            "\n"
          ]
        }
      ],
      "source": [
        "summary_data.filter((summary_data.sex != \"M\")).show()"
      ]
    },
    {
      "cell_type": "code",
      "execution_count": 76,
      "id": "35102220",
      "metadata": {
        "scrolled": true,
        "colab": {
          "base_uri": "https://localhost:8080/"
        },
        "id": "35102220",
        "outputId": "37be9576-42d6-4d8c-bc68-b36649d0dd5b"
      },
      "outputs": [
        {
          "output_type": "stream",
          "name": "stdout",
          "text": [
            "+-------+----+---------+-------------------+---------+---------+-----------+--------------+\n",
            "|browser| sex|sum_class|          avg_class|min_class|max_class|count_class|count_distinct|\n",
            "+-------+----+---------+-------------------+---------+---------+-----------+--------------+\n",
            "|FireFox|null|        1|                0.2|        0|        1|          5|             2|\n",
            "|     IE|null|        1|0.16666666666666666|        0|        1|          6|             2|\n",
            "| Chrome|null|        1|0.08333333333333333|        0|        1|         12|             2|\n",
            "|  Opera|null|        0|                0.0|        0|        0|          2|             1|\n",
            "+-------+----+---------+-------------------+---------+---------+-----------+--------------+\n",
            "\n"
          ]
        }
      ],
      "source": [
        "summary_data.filter( \"sex is NULL AND browser is not NULL\").show()"
      ]
    },
    {
      "cell_type": "code",
      "execution_count": 77,
      "id": "a33edad0",
      "metadata": {
        "colab": {
          "base_uri": "https://localhost:8080/"
        },
        "id": "a33edad0",
        "outputId": "78c5c062-5f05-47c5-c546-9ca5095265fe"
      },
      "outputs": [
        {
          "output_type": "stream",
          "name": "stdout",
          "text": [
            "+-------+----+---------+--------------------+---------+---------+-----------+--------------+\n",
            "|browser| sex|sum_class|           avg_class|min_class|max_class|count_class|count_distinct|\n",
            "+-------+----+---------+--------------------+---------+---------+-----------+--------------+\n",
            "|  Opera|   M|        2| 0.18181818181818182|        0|        1|         11|             2|\n",
            "| Safari|   F|        4|0.058823529411764705|        0|        1|         68|             2|\n",
            "|FireFox|null|        1|                 0.2|        0|        1|          5|             2|\n",
            "|  Opera|   F|        2|                0.25|        0|        1|          8|             2|\n",
            "| Chrome|   M|       23| 0.10550458715596331|        0|        1|        218|             2|\n",
            "|FireFox|   M|       11| 0.12359550561797752|        0|        1|         89|             2|\n",
            "| Chrome|   F|       11|  0.0658682634730539|        0|        1|        167|             2|\n",
            "|     IE|null|        1| 0.16666666666666666|        0|        1|          6|             2|\n",
            "| Chrome|null|        1| 0.08333333333333333|        0|        1|         12|             2|\n",
            "|     IE|   F|       12| 0.10909090909090909|        0|        1|        110|             2|\n",
            "|     IE|   M|       17| 0.11805555555555555|        0|        1|        144|             2|\n",
            "|FireFox|   F|        3| 0.04918032786885246|        0|        1|         61|             2|\n",
            "| Safari|   M|       13|  0.1326530612244898|        0|        1|         98|             2|\n",
            "|  Opera|null|        0|                 0.0|        0|        0|          2|             1|\n",
            "+-------+----+---------+--------------------+---------+---------+-----------+--------------+\n",
            "\n"
          ]
        }
      ],
      "source": [
        "summary_data.filter( \"sex is NULL OR browser is not NULL\").show()"
      ]
    },
    {
      "cell_type": "code",
      "execution_count": 78,
      "id": "a7ce5abc",
      "metadata": {
        "colab": {
          "base_uri": "https://localhost:8080/"
        },
        "id": "a7ce5abc",
        "outputId": "be3cf70d-bd6b-461a-b4d7-caaf12e365f2"
      },
      "outputs": [
        {
          "output_type": "stream",
          "name": "stdout",
          "text": [
            "+-------+----+---------+-------------------+---------+---------+-----------+--------------+\n",
            "|browser| sex|sum_class|          avg_class|min_class|max_class|count_class|count_distinct|\n",
            "+-------+----+---------+-------------------+---------+---------+-----------+--------------+\n",
            "|FireFox|null|        1|                0.2|        0|        1|          5|             2|\n",
            "| Chrome|   M|       23|0.10550458715596331|        0|        1|        218|             2|\n",
            "|FireFox|   M|       11|0.12359550561797752|        0|        1|         89|             2|\n",
            "| Chrome|   F|       11| 0.0658682634730539|        0|        1|        167|             2|\n",
            "| Chrome|null|        1|0.08333333333333333|        0|        1|         12|             2|\n",
            "|FireFox|   F|        3|0.04918032786885246|        0|        1|         61|             2|\n",
            "+-------+----+---------+-------------------+---------+---------+-----------+--------------+\n",
            "\n"
          ]
        }
      ],
      "source": [
        "list_1 = [\"Chrome\",\"FireFox\"]\n",
        "summary_data.filter(summary_data.browser.isin(list_1)).show()"
      ]
    },
    {
      "cell_type": "code",
      "execution_count": 79,
      "id": "5676917c",
      "metadata": {
        "colab": {
          "base_uri": "https://localhost:8080/"
        },
        "id": "5676917c",
        "outputId": "f0682951-6efd-4672-95e2-ee3763d7d346"
      },
      "outputs": [
        {
          "output_type": "stream",
          "name": "stdout",
          "text": [
            "+-------+----+---------+--------------------+---------+---------+-----------+--------------+\n",
            "|browser| sex|sum_class|           avg_class|min_class|max_class|count_class|count_distinct|\n",
            "+-------+----+---------+--------------------+---------+---------+-----------+--------------+\n",
            "|  Opera|   M|        2| 0.18181818181818182|        0|        1|         11|             2|\n",
            "| Safari|   F|        4|0.058823529411764705|        0|        1|         68|             2|\n",
            "|  Opera|   F|        2|                0.25|        0|        1|          8|             2|\n",
            "|     IE|null|        1| 0.16666666666666666|        0|        1|          6|             2|\n",
            "|     IE|   F|       12| 0.10909090909090909|        0|        1|        110|             2|\n",
            "|     IE|   M|       17| 0.11805555555555555|        0|        1|        144|             2|\n",
            "| Safari|   M|       13|  0.1326530612244898|        0|        1|         98|             2|\n",
            "|  Opera|null|        0|                 0.0|        0|        0|          2|             1|\n",
            "+-------+----+---------+--------------------+---------+---------+-----------+--------------+\n",
            "\n"
          ]
        }
      ],
      "source": [
        "list_1 = [\"Chrome\",\"FireFox\"]\n",
        "summary_data.filter(summary_data.browser.isin(list_1) == False).show()"
      ]
    },
    {
      "cell_type": "code",
      "execution_count": 80,
      "id": "cc278256",
      "metadata": {
        "colab": {
          "base_uri": "https://localhost:8080/"
        },
        "id": "cc278256",
        "outputId": "271d4097-7043-49da-bc2e-6484639e33bf"
      },
      "outputs": [
        {
          "output_type": "stream",
          "name": "stdout",
          "text": [
            "+-------+----+---------+--------------------+---------+---------+-----------+--------------+\n",
            "|browser| sex|sum_class|           avg_class|min_class|max_class|count_class|count_distinct|\n",
            "+-------+----+---------+--------------------+---------+---------+-----------+--------------+\n",
            "|  Opera|   M|        2| 0.18181818181818182|        0|        1|         11|             2|\n",
            "| Safari|   F|        4|0.058823529411764705|        0|        1|         68|             2|\n",
            "|  Opera|   F|        2|                0.25|        0|        1|          8|             2|\n",
            "|     IE|null|        1| 0.16666666666666666|        0|        1|          6|             2|\n",
            "|     IE|   F|       12| 0.10909090909090909|        0|        1|        110|             2|\n",
            "|     IE|   M|       17| 0.11805555555555555|        0|        1|        144|             2|\n",
            "| Safari|   M|       13|  0.1326530612244898|        0|        1|         98|             2|\n",
            "|  Opera|null|        0|                 0.0|        0|        0|          2|             1|\n",
            "+-------+----+---------+--------------------+---------+---------+-----------+--------------+\n",
            "\n"
          ]
        }
      ],
      "source": [
        "list_1 = [\"Chrome\",\"FireFox\"]\n",
        "summary_data.filter(~summary_data.browser.isin(list_1)).show()"
      ]
    },
    {
      "cell_type": "code",
      "execution_count": 81,
      "id": "70d8ae17",
      "metadata": {
        "colab": {
          "base_uri": "https://localhost:8080/"
        },
        "id": "70d8ae17",
        "outputId": "62a2c7f9-e5a3-41a6-8877-b19c14063c4d"
      },
      "outputs": [
        {
          "output_type": "stream",
          "name": "stdout",
          "text": [
            "+-------+----+---------+-------------------+---------+---------+-----------+--------------+\n",
            "|browser| sex|sum_class|          avg_class|min_class|max_class|count_class|count_distinct|\n",
            "+-------+----+---------+-------------------+---------+---------+-----------+--------------+\n",
            "|  Opera|   M|        2|0.18181818181818182|        0|        1|         11|             2|\n",
            "|  Opera|   F|        2|               0.25|        0|        1|          8|             2|\n",
            "|  Opera|null|        0|                0.0|        0|        0|          2|             1|\n",
            "+-------+----+---------+-------------------+---------+---------+-----------+--------------+\n",
            "\n"
          ]
        }
      ],
      "source": [
        "summary_data.filter(summary_data.browser.startswith(\"O\")).show()"
      ]
    },
    {
      "cell_type": "code",
      "execution_count": 82,
      "id": "bafe2746",
      "metadata": {
        "colab": {
          "base_uri": "https://localhost:8080/"
        },
        "id": "bafe2746",
        "outputId": "1e8ffce4-cc48-4f51-ab73-e17d0adafff8"
      },
      "outputs": [
        {
          "output_type": "stream",
          "name": "stdout",
          "text": [
            "+-------+----+---------+-------------------+---------+---------+-----------+--------------+\n",
            "|browser| sex|sum_class|          avg_class|min_class|max_class|count_class|count_distinct|\n",
            "+-------+----+---------+-------------------+---------+---------+-----------+--------------+\n",
            "| Chrome|   M|       23|0.10550458715596331|        0|        1|        218|             2|\n",
            "| Chrome|   F|       11| 0.0658682634730539|        0|        1|        167|             2|\n",
            "| Chrome|null|        1|0.08333333333333333|        0|        1|         12|             2|\n",
            "+-------+----+---------+-------------------+---------+---------+-----------+--------------+\n",
            "\n"
          ]
        }
      ],
      "source": [
        "summary_data.filter(summary_data.browser.endswith(\"e\")).show()"
      ]
    },
    {
      "cell_type": "code",
      "execution_count": 83,
      "id": "ee2585cf",
      "metadata": {
        "scrolled": true,
        "colab": {
          "base_uri": "https://localhost:8080/"
        },
        "id": "ee2585cf",
        "outputId": "08c56012-a526-49be-9c1c-89e7f346ca4f"
      },
      "outputs": [
        {
          "output_type": "stream",
          "name": "stdout",
          "text": [
            "+-------+----+---------+-------------------+---------+---------+-----------+--------------+\n",
            "|browser| sex|sum_class|          avg_class|min_class|max_class|count_class|count_distinct|\n",
            "+-------+----+---------+-------------------+---------+---------+-----------+--------------+\n",
            "| Chrome|   M|       23|0.10550458715596331|        0|        1|        218|             2|\n",
            "| Chrome|   F|       11| 0.0658682634730539|        0|        1|        167|             2|\n",
            "| Chrome|null|        1|0.08333333333333333|        0|        1|         12|             2|\n",
            "+-------+----+---------+-------------------+---------+---------+-----------+--------------+\n",
            "\n"
          ]
        }
      ],
      "source": [
        "summary_data.filter(summary_data.browser.contains(\"hr\")).show()"
      ]
    },
    {
      "cell_type": "code",
      "execution_count": 84,
      "id": "e0524935",
      "metadata": {
        "colab": {
          "base_uri": "https://localhost:8080/"
        },
        "id": "e0524935",
        "outputId": "8d2623e2-d9f8-4912-f2da-d8d607158106"
      },
      "outputs": [
        {
          "output_type": "stream",
          "name": "stdout",
          "text": [
            "+-------+----+---------+-------------------+---------+---------+-----------+--------------+\n",
            "|browser| sex|sum_class|          avg_class|min_class|max_class|count_class|count_distinct|\n",
            "+-------+----+---------+-------------------+---------+---------+-----------+--------------+\n",
            "| Chrome|   M|       23|0.10550458715596331|        0|        1|        218|             2|\n",
            "| Chrome|   F|       11| 0.0658682634730539|        0|        1|        167|             2|\n",
            "| Chrome|null|        1|0.08333333333333333|        0|        1|         12|             2|\n",
            "+-------+----+---------+-------------------+---------+---------+-----------+--------------+\n",
            "\n"
          ]
        }
      ],
      "source": [
        "summary_data.filter(summary_data.browser.like(\"%hr%\")).show()"
      ]
    },
    {
      "cell_type": "code",
      "execution_count": 85,
      "id": "07c35eb5",
      "metadata": {
        "colab": {
          "base_uri": "https://localhost:8080/"
        },
        "id": "07c35eb5",
        "outputId": "881d6d11-e97a-49fe-d4b3-9a502896e7e5"
      },
      "outputs": [
        {
          "output_type": "stream",
          "name": "stdout",
          "text": [
            "+-------+----+---------+-------------------+---------+---------+-----------+--------------+\n",
            "|browser| sex|sum_class|          avg_class|min_class|max_class|count_class|count_distinct|\n",
            "+-------+----+---------+-------------------+---------+---------+-----------+--------------+\n",
            "|FireFox|null|        1|                0.2|        0|        1|          5|             2|\n",
            "|FireFox|   M|       11|0.12359550561797752|        0|        1|         89|             2|\n",
            "|FireFox|   F|        3|0.04918032786885246|        0|        1|         61|             2|\n",
            "+-------+----+---------+-------------------+---------+---------+-----------+--------------+\n",
            "\n"
          ]
        }
      ],
      "source": [
        "summary_data.filter(summary_data.browser.rlike(\"\\w+Fox\")).show()"
      ]
    },
    {
      "cell_type": "markdown",
      "id": "080dac81",
      "metadata": {
        "id": "080dac81"
      },
      "source": [
        "# Module 12 : WHEN function in PySpark"
      ]
    },
    {
      "cell_type": "code",
      "execution_count": 86,
      "id": "e367b494",
      "metadata": {
        "colab": {
          "base_uri": "https://localhost:8080/"
        },
        "id": "e367b494",
        "outputId": "85e77f9d-3816-4ce5-ef5d-fcc927aa6933"
      },
      "outputs": [
        {
          "output_type": "stream",
          "name": "stdout",
          "text": [
            "+-------+----+---------+--------------------+---------+---------+-----------+--------------+------+\n",
            "|browser| sex|sum_class|           avg_class|min_class|max_class|count_class|count_distinct|gender|\n",
            "+-------+----+---------+--------------------+---------+---------+-----------+--------------+------+\n",
            "|  Opera|   M|        2| 0.18181818181818182|        0|        1|         11|             2|  Male|\n",
            "| Safari|   F|        4|0.058823529411764705|        0|        1|         68|             2|Female|\n",
            "|FireFox|null|        1|                 0.2|        0|        1|          5|             2| Other|\n",
            "|  Opera|   F|        2|                0.25|        0|        1|          8|             2|Female|\n",
            "| Chrome|   M|       23| 0.10550458715596331|        0|        1|        218|             2|  Male|\n",
            "|FireFox|   M|       11| 0.12359550561797752|        0|        1|         89|             2|  Male|\n",
            "| Chrome|   F|       11|  0.0658682634730539|        0|        1|        167|             2|Female|\n",
            "|     IE|null|        1| 0.16666666666666666|        0|        1|          6|             2| Other|\n",
            "| Chrome|null|        1| 0.08333333333333333|        0|        1|         12|             2| Other|\n",
            "|     IE|   F|       12| 0.10909090909090909|        0|        1|        110|             2|Female|\n",
            "|     IE|   M|       17| 0.11805555555555555|        0|        1|        144|             2|  Male|\n",
            "|FireFox|   F|        3| 0.04918032786885246|        0|        1|         61|             2|Female|\n",
            "| Safari|   M|       13|  0.1326530612244898|        0|        1|         98|             2|  Male|\n",
            "|  Opera|null|        0|                 0.0|        0|        0|          2|             1| Other|\n",
            "+-------+----+---------+--------------------+---------+---------+-----------+--------------+------+\n",
            "\n"
          ]
        }
      ],
      "source": [
        "summary_data = summary_data.withColumn('gender', when(summary_data.sex == \"M\", \"Male\")\n",
        "                               .when(summary_data.sex == \"F\", \"Female\")\n",
        "                               .when(summary_data.sex.isNull(), \"Other\")\n",
        "                               .otherwise(\"check\") )\n",
        "summary_data.show()"
      ]
    },
    {
      "cell_type": "markdown",
      "id": "e05cc6c4",
      "metadata": {
        "id": "e05cc6c4"
      },
      "source": [
        "# Module 13 : rank(), dense_rank(), row_number(), percent_rank() in PySpark"
      ]
    },
    {
      "cell_type": "raw",
      "id": "3b0ba21d",
      "metadata": {
        "id": "3b0ba21d"
      },
      "source": [
        "These three are quite pouplar functions in SQL, which are used to create rank/counter variables"
      ]
    },
    {
      "cell_type": "code",
      "execution_count": 88,
      "id": "2bfc7d7d",
      "metadata": {
        "colab": {
          "base_uri": "https://localhost:8080/"
        },
        "id": "2bfc7d7d",
        "outputId": "6a389de2-cc66-41fb-f96b-a3e6c1900fa5"
      },
      "outputs": [
        {
          "output_type": "stream",
          "name": "stdout",
          "text": [
            "+------+---------+-----+\n",
            "|  Name|  Subject|Marks|\n",
            "+------+---------+-----+\n",
            "|   Sam|  Physics|   76|\n",
            "|   Sam|Chemistry|   89|\n",
            "|   Sam|    Maths|   85|\n",
            "| Robby|  Physics|   89|\n",
            "| Robby|Chemistry|   91|\n",
            "| Robby|    Maths|   87|\n",
            "|Merlin|  Physics|   84|\n",
            "|Merlin|Chemistry|   95|\n",
            "|Merlin|    Maths|   90|\n",
            "+------+---------+-----+\n",
            "\n"
          ]
        }
      ],
      "source": [
        "data_rank= spark.read.option('header','true').csv('Rank_data.csv')\n",
        "data_rank.show()"
      ]
    },
    {
      "cell_type": "code",
      "execution_count": 89,
      "id": "fa6fa704",
      "metadata": {
        "colab": {
          "base_uri": "https://localhost:8080/"
        },
        "id": "fa6fa704",
        "outputId": "c8c7c965-7c5d-4830-b223-8f1026b9cad3"
      },
      "outputs": [
        {
          "output_type": "stream",
          "name": "stdout",
          "text": [
            "+------+---------+-----+----------+\n",
            "|  Name|  Subject|Marks|Row_Number|\n",
            "+------+---------+-----+----------+\n",
            "|Merlin|Chemistry|   95|         1|\n",
            "| Robby|Chemistry|   91|         2|\n",
            "|   Sam|Chemistry|   89|         3|\n",
            "|Merlin|    Maths|   90|         1|\n",
            "| Robby|    Maths|   87|         2|\n",
            "|   Sam|    Maths|   85|         3|\n",
            "| Robby|  Physics|   89|         1|\n",
            "|Merlin|  Physics|   84|         2|\n",
            "|   Sam|  Physics|   76|         3|\n",
            "+------+---------+-----+----------+\n",
            "\n"
          ]
        }
      ],
      "source": [
        "from pyspark.sql.window import Window\n",
        "from pyspark.sql.functions import row_number\n",
        "\n",
        "windowSpec  = Window.partitionBy(\"Subject\").orderBy(col(\"Marks\").desc())\n",
        "data_rank = data_rank.withColumn('Row_Number',row_number().over(windowSpec))\n",
        "data_rank.show()"
      ]
    },
    {
      "cell_type": "code",
      "execution_count": 90,
      "id": "e43979b7",
      "metadata": {
        "colab": {
          "base_uri": "https://localhost:8080/"
        },
        "id": "e43979b7",
        "outputId": "96c8e76b-ae1e-47ba-fe19-636d444d4a46"
      },
      "outputs": [
        {
          "output_type": "stream",
          "name": "stdout",
          "text": [
            "+------+---------+-----+----------+----+\n",
            "|  Name|  Subject|Marks|Row_Number|RANK|\n",
            "+------+---------+-----+----------+----+\n",
            "|Merlin|Chemistry|   95|         1|   1|\n",
            "| Robby|Chemistry|   91|         2|   2|\n",
            "|   Sam|Chemistry|   89|         3|   3|\n",
            "|Merlin|    Maths|   90|         1|   1|\n",
            "| Robby|    Maths|   87|         2|   2|\n",
            "|   Sam|    Maths|   85|         3|   3|\n",
            "| Robby|  Physics|   89|         1|   1|\n",
            "|Merlin|  Physics|   84|         2|   2|\n",
            "|   Sam|  Physics|   76|         3|   3|\n",
            "+------+---------+-----+----------+----+\n",
            "\n"
          ]
        }
      ],
      "source": [
        "data_rank = data_rank.withColumn('RANK',rank().over(windowSpec))\n",
        "data_rank.show()"
      ]
    },
    {
      "cell_type": "code",
      "execution_count": 91,
      "id": "8699fae4",
      "metadata": {
        "colab": {
          "base_uri": "https://localhost:8080/"
        },
        "id": "8699fae4",
        "outputId": "82cfbf27-07a5-49cc-b1d2-c21ae027e547"
      },
      "outputs": [
        {
          "output_type": "stream",
          "name": "stdout",
          "text": [
            "+------+---------+-----+----------+----+----------+\n",
            "|  Name|  Subject|Marks|Row_Number|RANK|DENSE_RANK|\n",
            "+------+---------+-----+----------+----+----------+\n",
            "|Merlin|Chemistry|   95|         1|   1|         1|\n",
            "| Robby|Chemistry|   91|         2|   2|         2|\n",
            "|   Sam|Chemistry|   89|         3|   3|         3|\n",
            "|Merlin|    Maths|   90|         1|   1|         1|\n",
            "| Robby|    Maths|   87|         2|   2|         2|\n",
            "|   Sam|    Maths|   85|         3|   3|         3|\n",
            "| Robby|  Physics|   89|         1|   1|         1|\n",
            "|Merlin|  Physics|   84|         2|   2|         2|\n",
            "|   Sam|  Physics|   76|         3|   3|         3|\n",
            "+------+---------+-----+----------+----+----------+\n",
            "\n"
          ]
        }
      ],
      "source": [
        "data_rank = data_rank.withColumn('DENSE_RANK',dense_rank().over(windowSpec))\n",
        "data_rank.show()"
      ]
    },
    {
      "cell_type": "code",
      "execution_count": 92,
      "id": "698651b9",
      "metadata": {
        "colab": {
          "base_uri": "https://localhost:8080/"
        },
        "id": "698651b9",
        "outputId": "f5a35e2d-50f8-4bf6-fb0e-98efaa158958"
      },
      "outputs": [
        {
          "output_type": "stream",
          "name": "stdout",
          "text": [
            "+------+---------+-----+----------+----+----------+------------+\n",
            "|  Name|  Subject|Marks|Row_Number|RANK|DENSE_RANK|PERCENT_RANK|\n",
            "+------+---------+-----+----------+----+----------+------------+\n",
            "|Merlin|Chemistry|   95|         1|   1|         1|         0.0|\n",
            "| Robby|Chemistry|   91|         2|   2|         2|         0.5|\n",
            "|   Sam|Chemistry|   89|         3|   3|         3|         1.0|\n",
            "|Merlin|    Maths|   90|         1|   1|         1|         0.0|\n",
            "| Robby|    Maths|   87|         2|   2|         2|         0.5|\n",
            "|   Sam|    Maths|   85|         3|   3|         3|         1.0|\n",
            "| Robby|  Physics|   89|         1|   1|         1|         0.0|\n",
            "|Merlin|  Physics|   84|         2|   2|         2|         0.5|\n",
            "|   Sam|  Physics|   76|         3|   3|         3|         1.0|\n",
            "+------+---------+-----+----------+----+----------+------------+\n",
            "\n"
          ]
        }
      ],
      "source": [
        "data_rank = data_rank.withColumn('PERCENT_RANK',percent_rank().over(windowSpec))\n",
        "data_rank.show()"
      ]
    },
    {
      "cell_type": "code",
      "execution_count": 93,
      "id": "909fe40c",
      "metadata": {
        "colab": {
          "base_uri": "https://localhost:8080/"
        },
        "id": "909fe40c",
        "outputId": "f7221de0-799b-4eec-ede6-35d1dfc972a9"
      },
      "outputs": [
        {
          "output_type": "stream",
          "name": "stdout",
          "text": [
            "+------+---------+-----+----------+----+----------+------------+-----+\n",
            "|  Name|  Subject|Marks|Row_Number|RANK|DENSE_RANK|PERCENT_RANK|NTILE|\n",
            "+------+---------+-----+----------+----+----------+------------+-----+\n",
            "|Merlin|Chemistry|   95|         1|   1|         1|         0.0|    1|\n",
            "| Robby|Chemistry|   91|         2|   2|         2|         0.5|    1|\n",
            "|   Sam|Chemistry|   89|         3|   3|         3|         1.0|    2|\n",
            "|Merlin|    Maths|   90|         1|   1|         1|         0.0|    1|\n",
            "| Robby|    Maths|   87|         2|   2|         2|         0.5|    1|\n",
            "|   Sam|    Maths|   85|         3|   3|         3|         1.0|    2|\n",
            "| Robby|  Physics|   89|         1|   1|         1|         0.0|    1|\n",
            "|Merlin|  Physics|   84|         2|   2|         2|         0.5|    1|\n",
            "|   Sam|  Physics|   76|         3|   3|         3|         1.0|    2|\n",
            "+------+---------+-----+----------+----+----------+------------+-----+\n",
            "\n"
          ]
        }
      ],
      "source": [
        "data_rank = data_rank.withColumn('NTILE',ntile(2).over(windowSpec))\n",
        "data_rank.show()"
      ]
    },
    {
      "cell_type": "code",
      "execution_count": 94,
      "id": "c5e300db",
      "metadata": {
        "colab": {
          "base_uri": "https://localhost:8080/"
        },
        "id": "c5e300db",
        "outputId": "5e24d97c-359e-4da3-d635-bef6850bb737"
      },
      "outputs": [
        {
          "output_type": "stream",
          "name": "stdout",
          "text": [
            "+------+---------+-----+----------+----+----------+------------+-----+------------------+\n",
            "|  Name|  Subject|Marks|Row_Number|RANK|DENSE_RANK|PERCENT_RANK|NTILE|         CUME_DIST|\n",
            "+------+---------+-----+----------+----+----------+------------+-----+------------------+\n",
            "|Merlin|Chemistry|   95|         1|   1|         1|         0.0|    1|0.3333333333333333|\n",
            "| Robby|Chemistry|   91|         2|   2|         2|         0.5|    1|0.6666666666666666|\n",
            "|   Sam|Chemistry|   89|         3|   3|         3|         1.0|    2|               1.0|\n",
            "|Merlin|    Maths|   90|         1|   1|         1|         0.0|    1|0.3333333333333333|\n",
            "| Robby|    Maths|   87|         2|   2|         2|         0.5|    1|0.6666666666666666|\n",
            "|   Sam|    Maths|   85|         3|   3|         3|         1.0|    2|               1.0|\n",
            "| Robby|  Physics|   89|         1|   1|         1|         0.0|    1|0.3333333333333333|\n",
            "|Merlin|  Physics|   84|         2|   2|         2|         0.5|    1|0.6666666666666666|\n",
            "|   Sam|  Physics|   76|         3|   3|         3|         1.0|    2|               1.0|\n",
            "+------+---------+-----+----------+----+----------+------------+-----+------------------+\n",
            "\n"
          ]
        }
      ],
      "source": [
        "data_rank = data_rank.withColumn('CUME_DIST',cume_dist().over(windowSpec))\n",
        "data_rank.show()"
      ]
    },
    {
      "cell_type": "markdown",
      "id": "ffcfd5df",
      "metadata": {
        "id": "ffcfd5df"
      },
      "source": [
        "# Module 14 : Data management using PySpark"
      ]
    },
    {
      "cell_type": "markdown",
      "id": "52c8ddd6",
      "metadata": {
        "id": "52c8ddd6"
      },
      "source": [
        "### 1. Merging Data\n",
        "\n",
        "#### Merging data involves combining two or more data sets into a single data set based on common columns or indexes."
      ]
    },
    {
      "cell_type": "code",
      "execution_count": 95,
      "id": "cee2a208",
      "metadata": {
        "id": "cee2a208"
      },
      "outputs": [],
      "source": [
        "import pandas as pd\n",
        "# create two data frames\n",
        "df1 = pd.DataFrame({'id': ['1001', '1002', '1003'], 'name':   ['abc', 'mno', 'opq']})\n",
        "df2 = pd.DataFrame({'id': ['1001', '1002', '1004'], 'salary': [1100.25, 2200.50, 3300.20]})\n",
        "\n",
        "spark.conf.set(\"spark.sql.execution.arrow.pyspark.enabled\", \"true\")\n",
        "df_py1 = spark.createDataFrame(df1)\n",
        "df_py2 = spark.createDataFrame(df2)"
      ]
    },
    {
      "cell_type": "code",
      "execution_count": 96,
      "id": "75e53dfc",
      "metadata": {
        "colab": {
          "base_uri": "https://localhost:8080/"
        },
        "id": "75e53dfc",
        "outputId": "d6c4654b-2c1c-405c-917f-90dddcee365c"
      },
      "outputs": [
        {
          "output_type": "stream",
          "name": "stdout",
          "text": [
            "+----+----+\n",
            "|  id|name|\n",
            "+----+----+\n",
            "|1001| abc|\n",
            "|1002| mno|\n",
            "|1003| opq|\n",
            "+----+----+\n",
            "\n"
          ]
        }
      ],
      "source": [
        "df_py1.show()"
      ]
    },
    {
      "cell_type": "code",
      "execution_count": 97,
      "id": "106167b6",
      "metadata": {
        "colab": {
          "base_uri": "https://localhost:8080/"
        },
        "id": "106167b6",
        "outputId": "d538ce7e-d4de-4bf0-e35e-3abcbbade865"
      },
      "outputs": [
        {
          "output_type": "stream",
          "name": "stdout",
          "text": [
            "+----+-------+\n",
            "|  id| salary|\n",
            "+----+-------+\n",
            "|1001|1100.25|\n",
            "|1002| 2200.5|\n",
            "|1004| 3300.2|\n",
            "+----+-------+\n",
            "\n"
          ]
        }
      ],
      "source": [
        "df_py2.show()"
      ]
    },
    {
      "cell_type": "code",
      "execution_count": 98,
      "id": "011af6ea",
      "metadata": {
        "colab": {
          "base_uri": "https://localhost:8080/"
        },
        "id": "011af6ea",
        "outputId": "dc015a15-1fef-41c5-8d6d-5cf3c67ddf31"
      },
      "outputs": [
        {
          "output_type": "stream",
          "name": "stdout",
          "text": [
            "+----+----+----+-------+\n",
            "|  id|name|  id| salary|\n",
            "+----+----+----+-------+\n",
            "|1001| abc|1001|1100.25|\n",
            "|1002| mno|1002| 2200.5|\n",
            "+----+----+----+-------+\n",
            "\n"
          ]
        }
      ],
      "source": [
        "inner_data = df_py1.join(df_py2,df_py1.id ==  df_py2.id,\"inner\")\n",
        "inner_data.show()"
      ]
    },
    {
      "cell_type": "code",
      "execution_count": 99,
      "id": "0c9bb63e",
      "metadata": {
        "colab": {
          "base_uri": "https://localhost:8080/"
        },
        "id": "0c9bb63e",
        "outputId": "21076c38-7808-4a25-8352-7f614c48b0a4"
      },
      "outputs": [
        {
          "output_type": "stream",
          "name": "stdout",
          "text": [
            "+----+----+----+-------+\n",
            "|  id|name|  id| salary|\n",
            "+----+----+----+-------+\n",
            "|1001| abc|1001|1100.25|\n",
            "|1002| mno|1002| 2200.5|\n",
            "|1003| opq|null|   null|\n",
            "+----+----+----+-------+\n",
            "\n"
          ]
        }
      ],
      "source": [
        "left_data = df_py1.join(df_py2,df_py1.id ==  df_py2.id,\"left\")\n",
        "left_data.show()"
      ]
    },
    {
      "cell_type": "code",
      "execution_count": 100,
      "id": "be4ebe80",
      "metadata": {
        "colab": {
          "base_uri": "https://localhost:8080/"
        },
        "id": "be4ebe80",
        "outputId": "f9c8fe3d-fefa-41e8-9e0d-18265421ff85"
      },
      "outputs": [
        {
          "output_type": "stream",
          "name": "stdout",
          "text": [
            "+----+----+----+-------+\n",
            "|  id|name|  id| salary|\n",
            "+----+----+----+-------+\n",
            "|1001| abc|1001|1100.25|\n",
            "|1002| mno|1002| 2200.5|\n",
            "|1003| opq|null|   null|\n",
            "|null|null|1004| 3300.2|\n",
            "+----+----+----+-------+\n",
            "\n"
          ]
        }
      ],
      "source": [
        "left_data = df_py1.join(df_py2,df_py1.id ==  df_py2.id,\"full\")\n",
        "left_data.show()"
      ]
    },
    {
      "cell_type": "markdown",
      "id": "5fdd47ab",
      "metadata": {
        "id": "5fdd47ab"
      },
      "source": [
        "### Simpler way is to use SQL Join to write complex joins\n",
        "\n",
        "#### It has been my experience that joining is most vulnerable data operation, I have seen that most of the data goes wrong while joining multiple data tables."
      ]
    },
    {
      "cell_type": "code",
      "execution_count": 101,
      "id": "e5ac5b00",
      "metadata": {
        "id": "e5ac5b00"
      },
      "outputs": [],
      "source": [
        "#First datafrrames should be registed to SQL\n",
        "df_py1.createOrReplaceTempView(\"SQL_1\")\n",
        "df_py2.createOrReplaceTempView(\"SQL_2\")\n",
        "\n",
        "#Now data tables can be joined usng classical SQL queries:\n",
        "joined_data1 = spark.sql(\"select coalesce(a.id, b.id) as ID \\\n",
        "        , a.name \\\n",
        "        , b.salary \\\n",
        "        from SQL_1 a \\\n",
        "        full join SQL_2 b \\\n",
        "        on a.id == b.id\" \\\n",
        "         )"
      ]
    },
    {
      "cell_type": "code",
      "execution_count": 102,
      "id": "5c03c4ca",
      "metadata": {
        "colab": {
          "base_uri": "https://localhost:8080/"
        },
        "id": "5c03c4ca",
        "outputId": "153c3f43-a8c1-45ec-c3e1-2cfa4e09e2a5"
      },
      "outputs": [
        {
          "output_type": "stream",
          "name": "stdout",
          "text": [
            "+----+----+-------+\n",
            "|  ID|name| salary|\n",
            "+----+----+-------+\n",
            "|1001| abc|1100.25|\n",
            "|1002| mno| 2200.5|\n",
            "|1003| opq|   null|\n",
            "|1004|null| 3300.2|\n",
            "+----+----+-------+\n",
            "\n"
          ]
        }
      ],
      "source": [
        "joined_data1.show()"
      ]
    },
    {
      "cell_type": "markdown",
      "id": "3bfd144e",
      "metadata": {
        "id": "3bfd144e"
      },
      "source": [
        "### 2. Appending Data\n",
        "\n",
        "#### Appending means vertical stacking of data below each other"
      ]
    },
    {
      "cell_type": "code",
      "execution_count": 103,
      "id": "687a4a18",
      "metadata": {
        "id": "687a4a18"
      },
      "outputs": [],
      "source": [
        "import pandas as pd\n",
        "df1 = pd.DataFrame({'col1': [1, 2, 3, 4], 'col2': ['1', '2', '3', '4']})\n",
        "df2 = pd.DataFrame({'col1': [5, 6, 7], 'col3': [1005, 1006, 1007]})\n",
        "\n",
        "spark.conf.set(\"spark.sql.execution.arrow.pyspark.enabled\", \"true\")\n",
        "df_py1 = spark.createDataFrame(df1)\n",
        "df_py2 = spark.createDataFrame(df2)"
      ]
    },
    {
      "cell_type": "code",
      "execution_count": 104,
      "id": "e5eb9157",
      "metadata": {
        "colab": {
          "base_uri": "https://localhost:8080/"
        },
        "id": "e5eb9157",
        "outputId": "cce0ead0-d06f-4573-e529-464d0c74649c"
      },
      "outputs": [
        {
          "output_type": "stream",
          "name": "stdout",
          "text": [
            "+----+----+\n",
            "|col1|col2|\n",
            "+----+----+\n",
            "|   1|   1|\n",
            "|   2|   2|\n",
            "|   3|   3|\n",
            "|   4|   4|\n",
            "+----+----+\n",
            "\n"
          ]
        }
      ],
      "source": [
        "df_py1.show()"
      ]
    },
    {
      "cell_type": "code",
      "execution_count": 105,
      "id": "d5d13a7f",
      "metadata": {
        "colab": {
          "base_uri": "https://localhost:8080/"
        },
        "id": "d5d13a7f",
        "outputId": "48a1f5f8-d838-4beb-ffde-d0b7b7a1024d"
      },
      "outputs": [
        {
          "output_type": "stream",
          "name": "stdout",
          "text": [
            "+----+----+\n",
            "|col1|col3|\n",
            "+----+----+\n",
            "|   5|1005|\n",
            "|   6|1006|\n",
            "|   7|1007|\n",
            "+----+----+\n",
            "\n"
          ]
        }
      ],
      "source": [
        "df_py2.show()"
      ]
    },
    {
      "cell_type": "code",
      "execution_count": 106,
      "id": "43a93357",
      "metadata": {
        "colab": {
          "base_uri": "https://localhost:8080/"
        },
        "id": "43a93357",
        "outputId": "fccc7a2c-ff7a-4921-d8a4-e571daf4cd53"
      },
      "outputs": [
        {
          "output_type": "stream",
          "name": "stdout",
          "text": [
            "+----+----+\n",
            "|col1|col3|\n",
            "+----+----+\n",
            "|   5|1005|\n",
            "|   6|1006|\n",
            "|   7|1007|\n",
            "|   1|   1|\n",
            "|   2|   2|\n",
            "|   3|   3|\n",
            "|   4|   4|\n",
            "+----+----+\n",
            "\n"
          ]
        }
      ],
      "source": [
        "union_DF = df_py2.union(df_py1)\n",
        "union_DF.show()"
      ]
    },
    {
      "cell_type": "code",
      "execution_count": 107,
      "id": "5c871eba",
      "metadata": {
        "colab": {
          "base_uri": "https://localhost:8080/"
        },
        "id": "5c871eba",
        "outputId": "72207cdd-a243-465e-de39-3b41e4ccd71b"
      },
      "outputs": [
        {
          "output_type": "execute_result",
          "data": {
            "text/plain": [
              "[('col1', 'bigint'), ('col3', 'string')]"
            ]
          },
          "metadata": {},
          "execution_count": 107
        }
      ],
      "source": [
        "union_DF.dtypes"
      ]
    },
    {
      "cell_type": "code",
      "execution_count": 108,
      "id": "1eca8df9",
      "metadata": {
        "colab": {
          "base_uri": "https://localhost:8080/"
        },
        "id": "1eca8df9",
        "outputId": "0d060575-6da2-47b6-f320-94f9e34d8d2a"
      },
      "outputs": [
        {
          "output_type": "stream",
          "name": "stdout",
          "text": [
            "+----+----+\n",
            "|col1|col2|\n",
            "+----+----+\n",
            "|   1|   1|\n",
            "|   2|   2|\n",
            "|   3|   3|\n",
            "|   4|   4|\n",
            "|   5|1005|\n",
            "|   6|1006|\n",
            "|   7|1007|\n",
            "+----+----+\n",
            "\n"
          ]
        }
      ],
      "source": [
        "union_DF = df_py1.union(df_py2)\n",
        "union_DF.show()"
      ]
    },
    {
      "cell_type": "code",
      "execution_count": 109,
      "id": "572b2f5b",
      "metadata": {
        "colab": {
          "base_uri": "https://localhost:8080/"
        },
        "id": "572b2f5b",
        "outputId": "d47f8fed-fb03-4695-9aba-1248fc367876"
      },
      "outputs": [
        {
          "output_type": "execute_result",
          "data": {
            "text/plain": [
              "[('col1', 'bigint'), ('col2', 'string')]"
            ]
          },
          "metadata": {},
          "execution_count": 109
        }
      ],
      "source": [
        "union_DF.dtypes"
      ]
    },
    {
      "cell_type": "markdown",
      "id": "6454c350",
      "metadata": {
        "id": "6454c350"
      },
      "source": [
        "### Hence, we can assume that it is a SQL vector union, where name of the variable doesn't matter"
      ]
    },
    {
      "cell_type": "markdown",
      "id": "9978c8ba",
      "metadata": {
        "id": "9978c8ba"
      },
      "source": [
        "# Module 15 : Let's revise - how to write SQL Qery in pyspark"
      ]
    },
    {
      "cell_type": "code",
      "execution_count": 110,
      "id": "e27a14a4",
      "metadata": {
        "id": "e27a14a4"
      },
      "outputs": [],
      "source": [
        "# First we need to register DataFrame as a SQL temporary view\n",
        "sample_1 = df.select('user_id','browser','sex','class')\n",
        "sample_1.createOrReplaceTempView(\"sample_sql\")\n",
        "\n",
        "# You can write query in multiple lines, using a \\, which defines End of the Line\n",
        "new_data = spark.sql(\n",
        "          \"SELECT sex \\\n",
        "          , class \\\n",
        "          , class+10 as class_plus_10 \\\n",
        "          , class * 2 as class_multiplied_2 \\\n",
        "          , 1- class  as class_inversed \\\n",
        "          , class/2  as class_divided \\\n",
        "          , pow(class+2,  2)  as class_power \\\n",
        "          ,  (class+3) % 2 as mod_class \\\n",
        "          FROM sample_sql\"\n",
        "          \n",
        "         )"
      ]
    },
    {
      "cell_type": "code",
      "execution_count": 111,
      "id": "00a0ee2f",
      "metadata": {
        "colab": {
          "base_uri": "https://localhost:8080/"
        },
        "id": "00a0ee2f",
        "outputId": "b906a687-7155-4166-e438-737e89ac319d"
      },
      "outputs": [
        {
          "output_type": "stream",
          "name": "stdout",
          "text": [
            "+---+-----+-------------+------------------+--------------+-------------+-----------+---------+\n",
            "|sex|class|class_plus_10|class_multiplied_2|class_inversed|class_divided|class_power|mod_class|\n",
            "+---+-----+-------------+------------------+--------------+-------------+-----------+---------+\n",
            "|  M|    0|           10|                 0|             1|          0.0|        4.0|        1|\n",
            "|  F|    0|           10|                 0|             1|          0.0|        4.0|        1|\n",
            "|  M|    1|           11|                 2|             0|          0.5|        9.0|        0|\n",
            "|  M|    0|           10|                 0|             1|          0.0|        4.0|        1|\n",
            "|  M|    0|           10|                 0|             1|          0.0|        4.0|        1|\n",
            "+---+-----+-------------+------------------+--------------+-------------+-----------+---------+\n",
            "only showing top 5 rows\n",
            "\n"
          ]
        }
      ],
      "source": [
        "new_data.show(5)"
      ]
    },
    {
      "cell_type": "code",
      "execution_count": 112,
      "id": "49205473",
      "metadata": {
        "colab": {
          "base_uri": "https://localhost:8080/"
        },
        "id": "49205473",
        "outputId": "dbe43a4f-1b92-43a6-945b-230bc0ed3c44"
      },
      "outputs": [
        {
          "output_type": "stream",
          "name": "stdout",
          "text": [
            "+---+-------+---------+\n",
            "|sex|browser|class_sum|\n",
            "+---+-------+---------+\n",
            "|  M|     IE|       17|\n",
            "|  M| Chrome|       23|\n",
            "+---+-------+---------+\n",
            "\n"
          ]
        }
      ],
      "source": [
        "new_data = spark.sql(\n",
        "          \"SELECT sex \\\n",
        "          , browser \\\n",
        "          , sum(class) as class_sum \\\n",
        "          FROM sample_sql \\\n",
        "          where sex = 'M' \\\n",
        "          group by sex , browser \\\n",
        "          having class_sum > 13 \\\n",
        "          \"\n",
        "          )\n",
        "new_data.show()"
      ]
    },
    {
      "cell_type": "markdown",
      "id": "806a8af0",
      "metadata": {
        "id": "806a8af0"
      },
      "source": [
        "# Module 16 : Miscellaneous"
      ]
    },
    {
      "cell_type": "raw",
      "id": "64c2909c",
      "metadata": {
        "id": "64c2909c"
      },
      "source": [
        "Summarize data in SAS Proc Transpose or Pivot Table of Microsoft Excel"
      ]
    },
    {
      "cell_type": "code",
      "execution_count": 113,
      "id": "bdadb338",
      "metadata": {
        "colab": {
          "base_uri": "https://localhost:8080/"
        },
        "id": "bdadb338",
        "outputId": "8bb03955-2076-4921-e592-d445f8a6afae"
      },
      "outputs": [
        {
          "output_type": "stream",
          "name": "stdout",
          "text": [
            "+-------+-------+---+-----+\n",
            "|user_id|browser|sex|class|\n",
            "+-------+-------+---+-----+\n",
            "|  22058| Chrome|  M|    0|\n",
            "| 333320| Chrome|  F|    0|\n",
            "|   1359|  Opera|  M|    1|\n",
            "| 150084| Safari|  M|    0|\n",
            "| 221365| Safari|  M|    0|\n",
            "+-------+-------+---+-----+\n",
            "only showing top 5 rows\n",
            "\n"
          ]
        }
      ],
      "source": [
        "sample_1 = df.select('user_id','browser','sex','class')\n",
        "sample_1.show(5)"
      ]
    },
    {
      "cell_type": "code",
      "execution_count": 114,
      "id": "baee0f57",
      "metadata": {
        "colab": {
          "base_uri": "https://localhost:8080/"
        },
        "id": "baee0f57",
        "outputId": "e2cb0359-adc4-4c73-a1f0-3eda176539c3"
      },
      "outputs": [
        {
          "output_type": "stream",
          "name": "stdout",
          "text": [
            "+-------+----+---+---+\n",
            "|browser|null|  F|  M|\n",
            "+-------+----+---+---+\n",
            "|FireFox|   1|  3| 11|\n",
            "| Safari|null|  4| 13|\n",
            "|     IE|   1| 12| 17|\n",
            "| Chrome|   1| 11| 23|\n",
            "|  Opera|   0|  2|  2|\n",
            "+-------+----+---+---+\n",
            "\n"
          ]
        }
      ],
      "source": [
        "transpose = sample_1.groupBy(\"browser\").pivot(\"sex\").sum(\"class\")\n",
        "transpose.show()"
      ]
    },
    {
      "cell_type": "code",
      "execution_count": 115,
      "id": "97026ba3",
      "metadata": {
        "colab": {
          "base_uri": "https://localhost:8080/"
        },
        "id": "97026ba3",
        "outputId": "65166f5c-651c-4bb7-8e85-96fe29ab1eaf"
      },
      "outputs": [
        {
          "output_type": "stream",
          "name": "stdout",
          "text": [
            "+-------+---+---+\n",
            "|browser|  F|  M|\n",
            "+-------+---+---+\n",
            "|FireFox|  3| 11|\n",
            "| Safari|  4| 13|\n",
            "|     IE| 12| 17|\n",
            "| Chrome| 11| 23|\n",
            "|  Opera|  2|  2|\n",
            "+-------+---+---+\n",
            "\n"
          ]
        }
      ],
      "source": [
        "transpose = sample_1.groupBy(\"browser\").pivot(\"sex\",[\"F\",\"M\"]).sum(\"class\")\n",
        "transpose.show()"
      ]
    },
    {
      "cell_type": "code",
      "execution_count": 116,
      "id": "cfcbdfe0",
      "metadata": {
        "colab": {
          "base_uri": "https://localhost:8080/"
        },
        "id": "cfcbdfe0",
        "outputId": "5bfe761a-6aa2-4ee5-a11c-1290a77ba105"
      },
      "outputs": [
        {
          "output_type": "stream",
          "name": "stdout",
          "text": [
            "+-------+---+---+\n",
            "|browser|  F|  M|\n",
            "+-------+---+---+\n",
            "| Safari|  4| 13|\n",
            "| Chrome| 11| 23|\n",
            "+-------+---+---+\n",
            "\n"
          ]
        }
      ],
      "source": [
        "transpose = sample_1[(df.browser == 'Chrome') | (df.browser == \"Safari\")].groupBy(\"browser\").pivot(\"sex\",[\"F\",\"M\"]).sum(\"class\")\n",
        "transpose.show()"
      ]
    },
    {
      "cell_type": "code",
      "execution_count": 117,
      "id": "8413482d",
      "metadata": {
        "colab": {
          "base_uri": "https://localhost:8080/"
        },
        "id": "8413482d",
        "outputId": "daebe33a-ec8a-4c85-f911-4067b6340396"
      },
      "outputs": [
        {
          "output_type": "stream",
          "name": "stdout",
          "text": [
            "+-------+---+---+\n",
            "|browser|  F|  M|\n",
            "+-------+---+---+\n",
            "|FireFox|  3| 11|\n",
            "| Safari|  4| 13|\n",
            "|     IE| 12| 17|\n",
            "| Chrome| 11| 23|\n",
            "|  Opera|  2|  2|\n",
            "+-------+---+---+\n",
            "\n",
            "+-------+---+---+\n",
            "|browser|  F|  M|\n",
            "+-------+---+---+\n",
            "| Safari|  4| 13|\n",
            "|  Opera|  2|  2|\n",
            "|     IE| 12| 17|\n",
            "|FireFox|  3| 11|\n",
            "| Chrome| 11| 23|\n",
            "+-------+---+---+\n",
            "\n"
          ]
        }
      ],
      "source": [
        "transpose = sample_1.groupBy(\"browser\").pivot(\"sex\",[\"F\",\"M\"]).sum(\"class\")\n",
        "transpose.show()\n",
        "#Sorting data in descending order of crowser and asceding order of F,\n",
        "# in this case second one is redundant, but it is to demonstrated that we can use multiple columns at once\n",
        "transpose = transpose.orderBy(transpose.browser.desc(), transpose.F)\n",
        "transpose.show()"
      ]
    },
    {
      "cell_type": "code",
      "execution_count": null,
      "id": "60f1ba1f",
      "metadata": {
        "id": "60f1ba1f"
      },
      "outputs": [],
      "source": []
    }
  ],
  "metadata": {
    "kernelspec": {
      "display_name": "Python 3",
      "language": "python",
      "name": "python3"
    },
    "language_info": {
      "codemirror_mode": {
        "name": "ipython",
        "version": 3
      },
      "file_extension": ".py",
      "mimetype": "text/x-python",
      "name": "python",
      "nbconvert_exporter": "python",
      "pygments_lexer": "ipython3",
      "version": "3.8.8"
    },
    "colab": {
      "provenance": []
    }
  },
  "nbformat": 4,
  "nbformat_minor": 5
}